{
 "cells": [
  {
   "cell_type": "markdown",
   "metadata": {},
   "source": [
    "# SQL Social-Network Query Exercises\n",
    "\n",
    "**This is a series of exercises from the [SQL](https://lagunita.stanford.edu/courses/DB/SQL/SelfPaced/about) portion of [Stanford's Databases MOOC](https://lagunita.stanford.edu/courses/DB/2014/SelfPaced/about).**\n",
    "\n",
    "Students at your hometown high school have decided to organize their social network using databases. So far, they have collected information about sixteen students in four grades, 9-12. Here's the schema: \n",
    "\n",
    "Highschooler ( ID, name, grade ) \n",
    "English: There is a high school student with unique _ID_ and a given _first name_ in a certain _grade_.\n",
    "\n",
    "Friend ( ID1, ID2 ) \n",
    "English: The student with _ID1_ is friends with the student with _ID2_. Friendship is mutual, so if (123, 456) is in the Friend table, so is (456, 123). \n",
    "\n",
    "Likes ( ID1, ID2 ) \n",
    "English: The student with _ID1_ likes the student with _ID2_. Liking someone is not necessarily mutual, so if (123, 456) is in the Likes table, there is no guarantee that (456, 123) is also present. \n",
    "\n",
    "Your queries will run over a small data set conforming to the schema. [View the database](https://lagunita.stanford.edu/c4x/DB/SQL/asset/socialdata.html). (You can also [download the schema and data](https://s3-us-west-2.amazonaws.com/prod-c2g/db/Winter2013/files/social.sql).)\n",
    "\n",
    "**Notes:**\n",
    "- I'm using PostgreSQL\n",
    "- I've combined the \"regular\" and \"extra\" questions\n",
    "\n",
    "For your convenience, here is a graph showing the various connections between the students in our database. 9th graders are blue, 10th graders are green, 11th graders are yellow, and 12th graders are purple. Undirected black edges indicate friendships, and directed red edges indicate that one student likes another student.\n",
    "\n",
    "![title](https://lagunita.stanford.edu/c4x/DB/SQL/asset/social.png)"
   ]
  },
  {
   "cell_type": "code",
   "execution_count": 1,
   "metadata": {
    "collapsed": true
   },
   "outputs": [],
   "source": [
    "%load_ext sql"
   ]
  },
  {
   "cell_type": "code",
   "execution_count": 2,
   "metadata": {},
   "outputs": [
    {
     "data": {
      "text/plain": [
       "'Connected: kbammarito@kbammarito'"
      ]
     },
     "execution_count": 2,
     "metadata": {},
     "output_type": "execute_result"
    }
   ],
   "source": [
    "%%sql\n",
    "postgresql://kbammarito@localhost:5432/kbammarito"
   ]
  },
  {
   "cell_type": "markdown",
   "metadata": {},
   "source": [
    "## Create the schema for the tables"
   ]
  },
  {
   "cell_type": "code",
   "execution_count": 3,
   "metadata": {},
   "outputs": [
    {
     "name": "stdout",
     "output_type": "stream",
     "text": [
      "Done.\n",
      "Done.\n",
      "Done.\n"
     ]
    },
    {
     "data": {
      "text/plain": [
       "[]"
      ]
     },
     "execution_count": 3,
     "metadata": {},
     "output_type": "execute_result"
    }
   ],
   "source": [
    "%%sql\n",
    "create table highschooler(ID int, name text, grade int);\n",
    "create table friend(ID1 int, ID2 int);\n",
    "create table likes(ID1 int, ID2 int);"
   ]
  },
  {
   "cell_type": "markdown",
   "metadata": {},
   "source": [
    "## Populate the tables with the data"
   ]
  },
  {
   "cell_type": "code",
   "execution_count": 4,
   "metadata": {},
   "outputs": [
    {
     "name": "stdout",
     "output_type": "stream",
     "text": [
      "1 rows affected.\n",
      "1 rows affected.\n",
      "1 rows affected.\n",
      "1 rows affected.\n",
      "1 rows affected.\n",
      "1 rows affected.\n",
      "1 rows affected.\n",
      "1 rows affected.\n",
      "1 rows affected.\n",
      "1 rows affected.\n",
      "1 rows affected.\n",
      "1 rows affected.\n",
      "1 rows affected.\n",
      "1 rows affected.\n",
      "1 rows affected.\n",
      "1 rows affected.\n",
      "1 rows affected.\n",
      "1 rows affected.\n",
      "1 rows affected.\n",
      "1 rows affected.\n",
      "1 rows affected.\n",
      "1 rows affected.\n",
      "1 rows affected.\n",
      "1 rows affected.\n",
      "1 rows affected.\n",
      "1 rows affected.\n",
      "1 rows affected.\n",
      "1 rows affected.\n",
      "1 rows affected.\n",
      "1 rows affected.\n",
      "1 rows affected.\n",
      "1 rows affected.\n",
      "1 rows affected.\n",
      "1 rows affected.\n",
      "1 rows affected.\n",
      "1 rows affected.\n",
      "20 rows affected.\n",
      "1 rows affected.\n",
      "1 rows affected.\n",
      "1 rows affected.\n",
      "1 rows affected.\n",
      "1 rows affected.\n",
      "1 rows affected.\n",
      "1 rows affected.\n",
      "1 rows affected.\n",
      "1 rows affected.\n",
      "1 rows affected.\n"
     ]
    },
    {
     "data": {
      "text/plain": [
       "[]"
      ]
     },
     "execution_count": 4,
     "metadata": {},
     "output_type": "execute_result"
    }
   ],
   "source": [
    "%%sql\n",
    "insert into highschooler values (1510, 'Jordan', 9);\n",
    "insert into highschooler values (1689, 'Gabriel', 9);\n",
    "insert into highschooler values (1381, 'Tiffany', 9);\n",
    "insert into highschooler values (1709, 'Cassandra', 9);\n",
    "insert into highschooler values (1101, 'Haley', 10);\n",
    "insert into highschooler values (1782, 'Andrew', 10);\n",
    "insert into highschooler values (1468, 'Kris', 10);\n",
    "insert into highschooler values (1641, 'Brittany', 10);\n",
    "insert into highschooler values (1247, 'Alexis', 11);\n",
    "insert into highschooler values (1316, 'Austin', 11);\n",
    "insert into highschooler values (1911, 'Gabriel', 11);\n",
    "insert into highschooler values (1501, 'Jessica', 11);\n",
    "insert into highschooler values (1304, 'Jordan', 12);\n",
    "insert into highschooler values (1025, 'John', 12);\n",
    "insert into highschooler values (1934, 'Kyle', 12);\n",
    "insert into highschooler values (1661, 'Logan', 12);\n",
    "\n",
    "insert into friend values (1510, 1381);\n",
    "insert into friend values (1510, 1689);\n",
    "insert into friend values (1689, 1709);\n",
    "insert into friend values (1381, 1247);\n",
    "insert into friend values (1709, 1247);\n",
    "insert into friend values (1689, 1782);\n",
    "insert into friend values (1782, 1468);\n",
    "insert into friend values (1782, 1316);\n",
    "insert into friend values (1782, 1304);\n",
    "insert into friend values (1468, 1101);\n",
    "insert into friend values (1468, 1641);\n",
    "insert into friend values (1101, 1641);\n",
    "insert into friend values (1247, 1911);\n",
    "insert into friend values (1247, 1501);\n",
    "insert into friend values (1911, 1501);\n",
    "insert into friend values (1501, 1934);\n",
    "insert into friend values (1316, 1934);\n",
    "insert into friend values (1934, 1304);\n",
    "insert into friend values (1304, 1661);\n",
    "insert into friend values (1661, 1025);\n",
    "insert into friend select ID2, ID1 from friend;\n",
    "\n",
    "insert into likes values(1689, 1709);\n",
    "insert into likes values(1709, 1689);\n",
    "insert into likes values(1782, 1709);\n",
    "insert into likes values(1911, 1247);\n",
    "insert into likes values(1247, 1468);\n",
    "insert into likes values(1641, 1468);\n",
    "insert into likes values(1316, 1304);\n",
    "insert into likes values(1501, 1934);\n",
    "insert into likes values(1934, 1501);\n",
    "insert into likes values(1025, 1101);"
   ]
  },
  {
   "cell_type": "markdown",
   "metadata": {},
   "source": [
    "## View each table"
   ]
  },
  {
   "cell_type": "code",
   "execution_count": 5,
   "metadata": {},
   "outputs": [
    {
     "name": "stdout",
     "output_type": "stream",
     "text": [
      "16 rows affected.\n"
     ]
    },
    {
     "data": {
      "text/html": [
       "<table>\n",
       "    <tr>\n",
       "        <th>id</th>\n",
       "        <th>name</th>\n",
       "        <th>grade</th>\n",
       "    </tr>\n",
       "    <tr>\n",
       "        <td>1510</td>\n",
       "        <td>Jordan</td>\n",
       "        <td>9</td>\n",
       "    </tr>\n",
       "    <tr>\n",
       "        <td>1689</td>\n",
       "        <td>Gabriel</td>\n",
       "        <td>9</td>\n",
       "    </tr>\n",
       "    <tr>\n",
       "        <td>1381</td>\n",
       "        <td>Tiffany</td>\n",
       "        <td>9</td>\n",
       "    </tr>\n",
       "    <tr>\n",
       "        <td>1709</td>\n",
       "        <td>Cassandra</td>\n",
       "        <td>9</td>\n",
       "    </tr>\n",
       "    <tr>\n",
       "        <td>1101</td>\n",
       "        <td>Haley</td>\n",
       "        <td>10</td>\n",
       "    </tr>\n",
       "    <tr>\n",
       "        <td>1782</td>\n",
       "        <td>Andrew</td>\n",
       "        <td>10</td>\n",
       "    </tr>\n",
       "    <tr>\n",
       "        <td>1468</td>\n",
       "        <td>Kris</td>\n",
       "        <td>10</td>\n",
       "    </tr>\n",
       "    <tr>\n",
       "        <td>1641</td>\n",
       "        <td>Brittany</td>\n",
       "        <td>10</td>\n",
       "    </tr>\n",
       "    <tr>\n",
       "        <td>1247</td>\n",
       "        <td>Alexis</td>\n",
       "        <td>11</td>\n",
       "    </tr>\n",
       "    <tr>\n",
       "        <td>1316</td>\n",
       "        <td>Austin</td>\n",
       "        <td>11</td>\n",
       "    </tr>\n",
       "    <tr>\n",
       "        <td>1911</td>\n",
       "        <td>Gabriel</td>\n",
       "        <td>11</td>\n",
       "    </tr>\n",
       "    <tr>\n",
       "        <td>1501</td>\n",
       "        <td>Jessica</td>\n",
       "        <td>11</td>\n",
       "    </tr>\n",
       "    <tr>\n",
       "        <td>1304</td>\n",
       "        <td>Jordan</td>\n",
       "        <td>12</td>\n",
       "    </tr>\n",
       "    <tr>\n",
       "        <td>1025</td>\n",
       "        <td>John</td>\n",
       "        <td>12</td>\n",
       "    </tr>\n",
       "    <tr>\n",
       "        <td>1934</td>\n",
       "        <td>Kyle</td>\n",
       "        <td>12</td>\n",
       "    </tr>\n",
       "    <tr>\n",
       "        <td>1661</td>\n",
       "        <td>Logan</td>\n",
       "        <td>12</td>\n",
       "    </tr>\n",
       "</table>"
      ],
      "text/plain": [
       "[(1510, 'Jordan', 9),\n",
       " (1689, 'Gabriel', 9),\n",
       " (1381, 'Tiffany', 9),\n",
       " (1709, 'Cassandra', 9),\n",
       " (1101, 'Haley', 10),\n",
       " (1782, 'Andrew', 10),\n",
       " (1468, 'Kris', 10),\n",
       " (1641, 'Brittany', 10),\n",
       " (1247, 'Alexis', 11),\n",
       " (1316, 'Austin', 11),\n",
       " (1911, 'Gabriel', 11),\n",
       " (1501, 'Jessica', 11),\n",
       " (1304, 'Jordan', 12),\n",
       " (1025, 'John', 12),\n",
       " (1934, 'Kyle', 12),\n",
       " (1661, 'Logan', 12)]"
      ]
     },
     "execution_count": 5,
     "metadata": {},
     "output_type": "execute_result"
    }
   ],
   "source": [
    "%%sql\n",
    "select * from highschooler;"
   ]
  },
  {
   "cell_type": "code",
   "execution_count": 6,
   "metadata": {},
   "outputs": [
    {
     "name": "stdout",
     "output_type": "stream",
     "text": [
      "40 rows affected.\n"
     ]
    },
    {
     "data": {
      "text/html": [
       "<table>\n",
       "    <tr>\n",
       "        <th>id1</th>\n",
       "        <th>id2</th>\n",
       "    </tr>\n",
       "    <tr>\n",
       "        <td>1510</td>\n",
       "        <td>1381</td>\n",
       "    </tr>\n",
       "    <tr>\n",
       "        <td>1510</td>\n",
       "        <td>1689</td>\n",
       "    </tr>\n",
       "    <tr>\n",
       "        <td>1689</td>\n",
       "        <td>1709</td>\n",
       "    </tr>\n",
       "    <tr>\n",
       "        <td>1381</td>\n",
       "        <td>1247</td>\n",
       "    </tr>\n",
       "    <tr>\n",
       "        <td>1709</td>\n",
       "        <td>1247</td>\n",
       "    </tr>\n",
       "    <tr>\n",
       "        <td>1689</td>\n",
       "        <td>1782</td>\n",
       "    </tr>\n",
       "    <tr>\n",
       "        <td>1782</td>\n",
       "        <td>1468</td>\n",
       "    </tr>\n",
       "    <tr>\n",
       "        <td>1782</td>\n",
       "        <td>1316</td>\n",
       "    </tr>\n",
       "    <tr>\n",
       "        <td>1782</td>\n",
       "        <td>1304</td>\n",
       "    </tr>\n",
       "    <tr>\n",
       "        <td>1468</td>\n",
       "        <td>1101</td>\n",
       "    </tr>\n",
       "    <tr>\n",
       "        <td>1468</td>\n",
       "        <td>1641</td>\n",
       "    </tr>\n",
       "    <tr>\n",
       "        <td>1101</td>\n",
       "        <td>1641</td>\n",
       "    </tr>\n",
       "    <tr>\n",
       "        <td>1247</td>\n",
       "        <td>1911</td>\n",
       "    </tr>\n",
       "    <tr>\n",
       "        <td>1247</td>\n",
       "        <td>1501</td>\n",
       "    </tr>\n",
       "    <tr>\n",
       "        <td>1911</td>\n",
       "        <td>1501</td>\n",
       "    </tr>\n",
       "    <tr>\n",
       "        <td>1501</td>\n",
       "        <td>1934</td>\n",
       "    </tr>\n",
       "    <tr>\n",
       "        <td>1316</td>\n",
       "        <td>1934</td>\n",
       "    </tr>\n",
       "    <tr>\n",
       "        <td>1934</td>\n",
       "        <td>1304</td>\n",
       "    </tr>\n",
       "    <tr>\n",
       "        <td>1304</td>\n",
       "        <td>1661</td>\n",
       "    </tr>\n",
       "    <tr>\n",
       "        <td>1661</td>\n",
       "        <td>1025</td>\n",
       "    </tr>\n",
       "    <tr>\n",
       "        <td>1381</td>\n",
       "        <td>1510</td>\n",
       "    </tr>\n",
       "    <tr>\n",
       "        <td>1689</td>\n",
       "        <td>1510</td>\n",
       "    </tr>\n",
       "    <tr>\n",
       "        <td>1709</td>\n",
       "        <td>1689</td>\n",
       "    </tr>\n",
       "    <tr>\n",
       "        <td>1247</td>\n",
       "        <td>1381</td>\n",
       "    </tr>\n",
       "    <tr>\n",
       "        <td>1247</td>\n",
       "        <td>1709</td>\n",
       "    </tr>\n",
       "    <tr>\n",
       "        <td>1782</td>\n",
       "        <td>1689</td>\n",
       "    </tr>\n",
       "    <tr>\n",
       "        <td>1468</td>\n",
       "        <td>1782</td>\n",
       "    </tr>\n",
       "    <tr>\n",
       "        <td>1316</td>\n",
       "        <td>1782</td>\n",
       "    </tr>\n",
       "    <tr>\n",
       "        <td>1304</td>\n",
       "        <td>1782</td>\n",
       "    </tr>\n",
       "    <tr>\n",
       "        <td>1101</td>\n",
       "        <td>1468</td>\n",
       "    </tr>\n",
       "    <tr>\n",
       "        <td>1641</td>\n",
       "        <td>1468</td>\n",
       "    </tr>\n",
       "    <tr>\n",
       "        <td>1641</td>\n",
       "        <td>1101</td>\n",
       "    </tr>\n",
       "    <tr>\n",
       "        <td>1911</td>\n",
       "        <td>1247</td>\n",
       "    </tr>\n",
       "    <tr>\n",
       "        <td>1501</td>\n",
       "        <td>1247</td>\n",
       "    </tr>\n",
       "    <tr>\n",
       "        <td>1501</td>\n",
       "        <td>1911</td>\n",
       "    </tr>\n",
       "    <tr>\n",
       "        <td>1934</td>\n",
       "        <td>1501</td>\n",
       "    </tr>\n",
       "    <tr>\n",
       "        <td>1934</td>\n",
       "        <td>1316</td>\n",
       "    </tr>\n",
       "    <tr>\n",
       "        <td>1304</td>\n",
       "        <td>1934</td>\n",
       "    </tr>\n",
       "    <tr>\n",
       "        <td>1661</td>\n",
       "        <td>1304</td>\n",
       "    </tr>\n",
       "    <tr>\n",
       "        <td>1025</td>\n",
       "        <td>1661</td>\n",
       "    </tr>\n",
       "</table>"
      ],
      "text/plain": [
       "[(1510, 1381),\n",
       " (1510, 1689),\n",
       " (1689, 1709),\n",
       " (1381, 1247),\n",
       " (1709, 1247),\n",
       " (1689, 1782),\n",
       " (1782, 1468),\n",
       " (1782, 1316),\n",
       " (1782, 1304),\n",
       " (1468, 1101),\n",
       " (1468, 1641),\n",
       " (1101, 1641),\n",
       " (1247, 1911),\n",
       " (1247, 1501),\n",
       " (1911, 1501),\n",
       " (1501, 1934),\n",
       " (1316, 1934),\n",
       " (1934, 1304),\n",
       " (1304, 1661),\n",
       " (1661, 1025),\n",
       " (1381, 1510),\n",
       " (1689, 1510),\n",
       " (1709, 1689),\n",
       " (1247, 1381),\n",
       " (1247, 1709),\n",
       " (1782, 1689),\n",
       " (1468, 1782),\n",
       " (1316, 1782),\n",
       " (1304, 1782),\n",
       " (1101, 1468),\n",
       " (1641, 1468),\n",
       " (1641, 1101),\n",
       " (1911, 1247),\n",
       " (1501, 1247),\n",
       " (1501, 1911),\n",
       " (1934, 1501),\n",
       " (1934, 1316),\n",
       " (1304, 1934),\n",
       " (1661, 1304),\n",
       " (1025, 1661)]"
      ]
     },
     "execution_count": 6,
     "metadata": {},
     "output_type": "execute_result"
    }
   ],
   "source": [
    "%%sql\n",
    "select * from friend;"
   ]
  },
  {
   "cell_type": "code",
   "execution_count": 7,
   "metadata": {},
   "outputs": [
    {
     "name": "stdout",
     "output_type": "stream",
     "text": [
      "10 rows affected.\n"
     ]
    },
    {
     "data": {
      "text/html": [
       "<table>\n",
       "    <tr>\n",
       "        <th>id1</th>\n",
       "        <th>id2</th>\n",
       "    </tr>\n",
       "    <tr>\n",
       "        <td>1689</td>\n",
       "        <td>1709</td>\n",
       "    </tr>\n",
       "    <tr>\n",
       "        <td>1709</td>\n",
       "        <td>1689</td>\n",
       "    </tr>\n",
       "    <tr>\n",
       "        <td>1782</td>\n",
       "        <td>1709</td>\n",
       "    </tr>\n",
       "    <tr>\n",
       "        <td>1911</td>\n",
       "        <td>1247</td>\n",
       "    </tr>\n",
       "    <tr>\n",
       "        <td>1247</td>\n",
       "        <td>1468</td>\n",
       "    </tr>\n",
       "    <tr>\n",
       "        <td>1641</td>\n",
       "        <td>1468</td>\n",
       "    </tr>\n",
       "    <tr>\n",
       "        <td>1316</td>\n",
       "        <td>1304</td>\n",
       "    </tr>\n",
       "    <tr>\n",
       "        <td>1501</td>\n",
       "        <td>1934</td>\n",
       "    </tr>\n",
       "    <tr>\n",
       "        <td>1934</td>\n",
       "        <td>1501</td>\n",
       "    </tr>\n",
       "    <tr>\n",
       "        <td>1025</td>\n",
       "        <td>1101</td>\n",
       "    </tr>\n",
       "</table>"
      ],
      "text/plain": [
       "[(1689, 1709),\n",
       " (1709, 1689),\n",
       " (1782, 1709),\n",
       " (1911, 1247),\n",
       " (1247, 1468),\n",
       " (1641, 1468),\n",
       " (1316, 1304),\n",
       " (1501, 1934),\n",
       " (1934, 1501),\n",
       " (1025, 1101)]"
      ]
     },
     "execution_count": 7,
     "metadata": {},
     "output_type": "execute_result"
    }
   ],
   "source": [
    "%%sql\n",
    "select * from likes;"
   ]
  },
  {
   "cell_type": "markdown",
   "metadata": {},
   "source": [
    "## Q1: Find the names of all students who are friends with someone named Gabriel."
   ]
  },
  {
   "cell_type": "code",
   "execution_count": 8,
   "metadata": {},
   "outputs": [
    {
     "name": "stdout",
     "output_type": "stream",
     "text": [
      "5 rows affected.\n"
     ]
    },
    {
     "data": {
      "text/html": [
       "<table>\n",
       "    <tr>\n",
       "        <th>gabriels_friends</th>\n",
       "    </tr>\n",
       "    <tr>\n",
       "        <td>Alexis</td>\n",
       "    </tr>\n",
       "    <tr>\n",
       "        <td>Andrew</td>\n",
       "    </tr>\n",
       "    <tr>\n",
       "        <td>Cassandra</td>\n",
       "    </tr>\n",
       "    <tr>\n",
       "        <td>Jessica</td>\n",
       "    </tr>\n",
       "    <tr>\n",
       "        <td>Jordan</td>\n",
       "    </tr>\n",
       "</table>"
      ],
      "text/plain": [
       "[('Alexis',), ('Andrew',), ('Cassandra',), ('Jessica',), ('Jordan',)]"
      ]
     },
     "execution_count": 8,
     "metadata": {},
     "output_type": "execute_result"
    }
   ],
   "source": [
    "%%sql\n",
    "select name1 as gabriels_friends\n",
    "from\n",
    "(select id1, name1, id2, name2\n",
    "    from\n",
    "    (select id1, name as name1, id2\n",
    "        from highschooler, friend\n",
    "        where highschooler.id = friend.id1 and name != 'Gabriel') a\n",
    "    join\n",
    "    (select name as name2, id as id2\n",
    "        from highschooler) b\n",
    "    using(id2)) c\n",
    "where name2 = 'Gabriel'\n",
    "order by gabriels_friends;"
   ]
  },
  {
   "cell_type": "markdown",
   "metadata": {},
   "source": [
    "## Q2: For every student who likes someone 2 or more grades younger than themselves, return that student's name and grade, and the name and grade of the student they like."
   ]
  },
  {
   "cell_type": "code",
   "execution_count": 9,
   "metadata": {},
   "outputs": [
    {
     "name": "stdout",
     "output_type": "stream",
     "text": [
      "1 rows affected.\n"
     ]
    },
    {
     "data": {
      "text/html": [
       "<table>\n",
       "    <tr>\n",
       "        <th>name1</th>\n",
       "        <th>grade1</th>\n",
       "        <th>name2</th>\n",
       "        <th>grade2</th>\n",
       "    </tr>\n",
       "    <tr>\n",
       "        <td>John</td>\n",
       "        <td>12</td>\n",
       "        <td>Haley</td>\n",
       "        <td>10</td>\n",
       "    </tr>\n",
       "</table>"
      ],
      "text/plain": [
       "[('John', 12, 'Haley', 10)]"
      ]
     },
     "execution_count": 9,
     "metadata": {},
     "output_type": "execute_result"
    }
   ],
   "source": [
    "%%sql\n",
    "select name1, grade1, name2, grade2\n",
    "from\n",
    "(select id1, name1, grade1, id2, name2, grade2\n",
    "    from\n",
    "    (select id1, name as name1, grade as grade1, id2\n",
    "        from highschooler, likes\n",
    "        where highschooler.id = likes.id1) a\n",
    "    join\n",
    "    (select name as name2, grade as grade2, id as id2\n",
    "        from highschooler) b\n",
    "    using(id2)) c\n",
    "where grade1 - grade2 >=2\n",
    "order by name1;"
   ]
  },
  {
   "cell_type": "markdown",
   "metadata": {},
   "source": [
    "## Q3: For every pair of students who both like each other, return the name and grade of both students. Include each pair only once, with the two names in alphabetical order."
   ]
  },
  {
   "cell_type": "code",
   "execution_count": 10,
   "metadata": {},
   "outputs": [
    {
     "name": "stdout",
     "output_type": "stream",
     "text": [
      "2 rows affected.\n"
     ]
    },
    {
     "data": {
      "text/html": [
       "<table>\n",
       "    <tr>\n",
       "        <th>name1</th>\n",
       "        <th>grade1</th>\n",
       "        <th>name2</th>\n",
       "        <th>grade2</th>\n",
       "    </tr>\n",
       "    <tr>\n",
       "        <td>Cassandra</td>\n",
       "        <td>9</td>\n",
       "        <td>Gabriel</td>\n",
       "        <td>9</td>\n",
       "    </tr>\n",
       "    <tr>\n",
       "        <td>Jessica</td>\n",
       "        <td>11</td>\n",
       "        <td>Kyle</td>\n",
       "        <td>12</td>\n",
       "    </tr>\n",
       "</table>"
      ],
      "text/plain": [
       "[('Cassandra', 9, 'Gabriel', 9), ('Jessica', 11, 'Kyle', 12)]"
      ]
     },
     "execution_count": 10,
     "metadata": {},
     "output_type": "execute_result"
    }
   ],
   "source": [
    "%%sql\n",
    "select name1, grade1, name2, grade2\n",
    "from\n",
    "(select L1.id1, L1.id2\n",
    "    from likes L1, likes l2\n",
    "    where L1.id1 = L2.id2 and L1.id2 = L2.id1) a\n",
    "join\n",
    "(select h1.name as name1, h1.grade as grade1, h1.id as id1, h2.name as name2, h2.grade as grade2, h2.id as id2\n",
    "    from highschooler h1, highschooler h2) b using(id1, id2)\n",
    "where id1 != id2 and name1 < name2;"
   ]
  },
  {
   "cell_type": "markdown",
   "metadata": {},
   "source": [
    "## Q4: Find all students who do not appear in the Likes table (as a student who likes or is liked) and return their names and grades. Sort by grade, then by name within each grade."
   ]
  },
  {
   "cell_type": "code",
   "execution_count": 11,
   "metadata": {},
   "outputs": [
    {
     "name": "stdout",
     "output_type": "stream",
     "text": [
      "3 rows affected.\n"
     ]
    },
    {
     "data": {
      "text/html": [
       "<table>\n",
       "    <tr>\n",
       "        <th>name</th>\n",
       "        <th>grade</th>\n",
       "    </tr>\n",
       "    <tr>\n",
       "        <td>Jordan</td>\n",
       "        <td>9</td>\n",
       "    </tr>\n",
       "    <tr>\n",
       "        <td>Tiffany</td>\n",
       "        <td>9</td>\n",
       "    </tr>\n",
       "    <tr>\n",
       "        <td>Logan</td>\n",
       "        <td>12</td>\n",
       "    </tr>\n",
       "</table>"
      ],
      "text/plain": [
       "[('Jordan', 9), ('Tiffany', 9), ('Logan', 12)]"
      ]
     },
     "execution_count": 11,
     "metadata": {},
     "output_type": "execute_result"
    }
   ],
   "source": [
    "%%sql\n",
    "select name, grade\n",
    "from highschooler\n",
    "where id not in\n",
    "(select id1\n",
    "    from likes)\n",
    "and id not in\n",
    "(select id2\n",
    "    from likes)\n",
    "order by grade, name;"
   ]
  },
  {
   "cell_type": "markdown",
   "metadata": {},
   "source": [
    "## Q5: For every situation where student A likes student B, but we have no information about whom B likes (that is, B does not appear as an ID1 in the Likes table), return A and B's names and grades."
   ]
  },
  {
   "cell_type": "code",
   "execution_count": 12,
   "metadata": {},
   "outputs": [
    {
     "name": "stdout",
     "output_type": "stream",
     "text": [
      "4 rows affected.\n"
     ]
    },
    {
     "data": {
      "text/html": [
       "<table>\n",
       "    <tr>\n",
       "        <th>a_name</th>\n",
       "        <th>a_grade</th>\n",
       "        <th>b_name</th>\n",
       "        <th>b_grade</th>\n",
       "    </tr>\n",
       "    <tr>\n",
       "        <td>Alexis</td>\n",
       "        <td>11</td>\n",
       "        <td>Kris</td>\n",
       "        <td>10</td>\n",
       "    </tr>\n",
       "    <tr>\n",
       "        <td>Austin</td>\n",
       "        <td>11</td>\n",
       "        <td>Jordan</td>\n",
       "        <td>12</td>\n",
       "    </tr>\n",
       "    <tr>\n",
       "        <td>Brittany</td>\n",
       "        <td>10</td>\n",
       "        <td>Kris</td>\n",
       "        <td>10</td>\n",
       "    </tr>\n",
       "    <tr>\n",
       "        <td>John</td>\n",
       "        <td>12</td>\n",
       "        <td>Haley</td>\n",
       "        <td>10</td>\n",
       "    </tr>\n",
       "</table>"
      ],
      "text/plain": [
       "[('Alexis', 11, 'Kris', 10),\n",
       " ('Austin', 11, 'Jordan', 12),\n",
       " ('Brittany', 10, 'Kris', 10),\n",
       " ('John', 12, 'Haley', 10)]"
      ]
     },
     "execution_count": 12,
     "metadata": {},
     "output_type": "execute_result"
    }
   ],
   "source": [
    "%%sql\n",
    "select a_name, a_grade, b_name, b_grade\n",
    "from\n",
    "(select id as b_id, name as b_name, grade as b_grade\n",
    "    from highschooler\n",
    "    where id in\n",
    "    (select id2\n",
    "        from likes)\n",
    "    and id not in\n",
    "    (select id1\n",
    "        from likes)) a\n",
    "join\n",
    "(select id as a_id, name as a_name, grade as a_grade, id2 as b_id\n",
    "    from highschooler, likes\n",
    "    where id = id1) b\n",
    "using(b_id)\n",
    "order by a_name;"
   ]
  },
  {
   "cell_type": "markdown",
   "metadata": {},
   "source": [
    "## Q6: Find names and grades of students who only have friends in the same grade. Return the result sorted by grade, then by name within each grade."
   ]
  },
  {
   "cell_type": "code",
   "execution_count": 13,
   "metadata": {},
   "outputs": [
    {
     "name": "stdout",
     "output_type": "stream",
     "text": [
      "7 rows affected.\n"
     ]
    },
    {
     "data": {
      "text/html": [
       "<table>\n",
       "    <tr>\n",
       "        <th>name</th>\n",
       "        <th>grade</th>\n",
       "    </tr>\n",
       "    <tr>\n",
       "        <td>Brittany</td>\n",
       "        <td>10</td>\n",
       "    </tr>\n",
       "    <tr>\n",
       "        <td>Gabriel</td>\n",
       "        <td>11</td>\n",
       "    </tr>\n",
       "    <tr>\n",
       "        <td>Haley</td>\n",
       "        <td>10</td>\n",
       "    </tr>\n",
       "    <tr>\n",
       "        <td>John</td>\n",
       "        <td>12</td>\n",
       "    </tr>\n",
       "    <tr>\n",
       "        <td>Jordan</td>\n",
       "        <td>9</td>\n",
       "    </tr>\n",
       "    <tr>\n",
       "        <td>Kris</td>\n",
       "        <td>10</td>\n",
       "    </tr>\n",
       "    <tr>\n",
       "        <td>Logan</td>\n",
       "        <td>12</td>\n",
       "    </tr>\n",
       "</table>"
      ],
      "text/plain": [
       "[('Brittany', 10),\n",
       " ('Gabriel', 11),\n",
       " ('Haley', 10),\n",
       " ('John', 12),\n",
       " ('Jordan', 9),\n",
       " ('Kris', 10),\n",
       " ('Logan', 12)]"
      ]
     },
     "execution_count": 13,
     "metadata": {},
     "output_type": "execute_result"
    }
   ],
   "source": [
    "%%sql\n",
    "select distinct name1 as name, grade1 as grade\n",
    "from\n",
    "(select distinct id1, name1, grade1\n",
    "    from\n",
    "    (select f.id1, h1.name as name1, h1.grade as grade1, f.id2, h2.name as name2, h2.grade as grade2\n",
    "        from highschooler h1, highschooler h2, friend f\n",
    "        where f.id1=h1.id and f.id2=h2.id) a\n",
    "    where id1 not in\n",
    "    (select distinct id1\n",
    "        from\n",
    "        (select f.id1, h1.name as name1, h1.grade as grade1, f.id2, h2.name as name2, h2.grade as grade2\n",
    "            from highschooler h1, highschooler h2, friend f\n",
    "            where f.id1=h1.id and f.id2=h2.id and h1.grade != h2.grade\n",
    "            order by id1, grade1, id2, grade2) b)) c\n",
    "order by name, grade;"
   ]
  },
  {
   "cell_type": "markdown",
   "metadata": {},
   "source": [
    "## Q7: For each student A who likes a student B where the two are not friends, find if they have a friend C in common (who can introduce them!). For all such trios, return the name and grade of A, B, and C."
   ]
  },
  {
   "cell_type": "code",
   "execution_count": 14,
   "metadata": {},
   "outputs": [
    {
     "name": "stdout",
     "output_type": "stream",
     "text": [
      "3 rows affected.\n"
     ]
    },
    {
     "data": {
      "text/html": [
       "<table>\n",
       "    <tr>\n",
       "        <th>a_name</th>\n",
       "        <th>a_grade</th>\n",
       "        <th>b_name</th>\n",
       "        <th>b_grade</th>\n",
       "        <th>c_name</th>\n",
       "        <th>c_grade</th>\n",
       "    </tr>\n",
       "    <tr>\n",
       "        <td>Andrew</td>\n",
       "        <td>10</td>\n",
       "        <td>Cassandra</td>\n",
       "        <td>9</td>\n",
       "        <td>Gabriel</td>\n",
       "        <td>9</td>\n",
       "    </tr>\n",
       "    <tr>\n",
       "        <td>Austin</td>\n",
       "        <td>11</td>\n",
       "        <td>Jordan</td>\n",
       "        <td>12</td>\n",
       "        <td>Andrew</td>\n",
       "        <td>10</td>\n",
       "    </tr>\n",
       "    <tr>\n",
       "        <td>Austin</td>\n",
       "        <td>11</td>\n",
       "        <td>Jordan</td>\n",
       "        <td>12</td>\n",
       "        <td>Kyle</td>\n",
       "        <td>12</td>\n",
       "    </tr>\n",
       "</table>"
      ],
      "text/plain": [
       "[('Andrew', 10, 'Cassandra', 9, 'Gabriel', 9),\n",
       " ('Austin', 11, 'Jordan', 12, 'Andrew', 10),\n",
       " ('Austin', 11, 'Jordan', 12, 'Kyle', 12)]"
      ]
     },
     "execution_count": 14,
     "metadata": {},
     "output_type": "execute_result"
    }
   ],
   "source": [
    "%%sql\n",
    "select studentA.name as a_name, studentA.grade as a_grade,\n",
    "studentB.name as b_name, studentB.grade as b_grade,\n",
    "studentC.name as c_name, studentC.grade as c_grade\n",
    "from highschooler studentA, highschooler studentB, highschooler studentC\n",
    "where studentB.id in\n",
    "(select likes.id2\n",
    "    from likes\n",
    "    where likes.id1 = studentA.id)\n",
    "and studentB.id not in\n",
    "(select friend.id2\n",
    "    from friend\n",
    "    where friend.id1 = studentA.id)\n",
    "and studentC.ID in\n",
    "(select friend.id2\n",
    "    from friend\n",
    "    where friend.id1 = studentA.id)\n",
    "and studentC.id in\n",
    "(select friend.id2\n",
    "    from friend\n",
    "    where friend.id1 = studentB.id)\n",
    "order by a_name;"
   ]
  },
  {
   "cell_type": "markdown",
   "metadata": {},
   "source": [
    "## Q8: Find the difference between the number of students in the school and the number of different first names."
   ]
  },
  {
   "cell_type": "code",
   "execution_count": 15,
   "metadata": {},
   "outputs": [
    {
     "name": "stdout",
     "output_type": "stream",
     "text": [
      "1 rows affected.\n"
     ]
    },
    {
     "data": {
      "text/html": [
       "<table>\n",
       "    <tr>\n",
       "        <th>difference</th>\n",
       "    </tr>\n",
       "    <tr>\n",
       "        <td>2</td>\n",
       "    </tr>\n",
       "</table>"
      ],
      "text/plain": [
       "[(2,)]"
      ]
     },
     "execution_count": 15,
     "metadata": {},
     "output_type": "execute_result"
    }
   ],
   "source": [
    "%%sql\n",
    "select count(id) - count(distinct name) as difference\n",
    "from highschooler;"
   ]
  },
  {
   "cell_type": "markdown",
   "metadata": {},
   "source": [
    "## Q9: Find the name and grade of all students who are liked by more than one other student."
   ]
  },
  {
   "cell_type": "code",
   "execution_count": 16,
   "metadata": {},
   "outputs": [
    {
     "name": "stdout",
     "output_type": "stream",
     "text": [
      "2 rows affected.\n"
     ]
    },
    {
     "data": {
      "text/html": [
       "<table>\n",
       "    <tr>\n",
       "        <th>name</th>\n",
       "        <th>grade</th>\n",
       "    </tr>\n",
       "    <tr>\n",
       "        <td>Cassandra</td>\n",
       "        <td>9</td>\n",
       "    </tr>\n",
       "    <tr>\n",
       "        <td>Kris</td>\n",
       "        <td>10</td>\n",
       "    </tr>\n",
       "</table>"
      ],
      "text/plain": [
       "[('Cassandra', 9), ('Kris', 10)]"
      ]
     },
     "execution_count": 16,
     "metadata": {},
     "output_type": "execute_result"
    }
   ],
   "source": [
    "%%sql\n",
    "select name, grade\n",
    "from highschooler\n",
    "where id in\n",
    "(select id2\n",
    "    from likes\n",
    "    group by id2\n",
    "    having count(*) > 1)\n",
    "order by name;"
   ]
  },
  {
   "cell_type": "markdown",
   "metadata": {},
   "source": [
    "## Q10: For every situation where student A likes student B, but student B likes a different student C, return the names and grades of A, B, and C."
   ]
  },
  {
   "cell_type": "code",
   "execution_count": 17,
   "metadata": {},
   "outputs": [
    {
     "name": "stdout",
     "output_type": "stream",
     "text": [
      "2 rows affected.\n"
     ]
    },
    {
     "data": {
      "text/html": [
       "<table>\n",
       "    <tr>\n",
       "        <th>a_name</th>\n",
       "        <th>a_grade</th>\n",
       "        <th>b_name</th>\n",
       "        <th>b_grade</th>\n",
       "        <th>c_name</th>\n",
       "        <th>c_grade</th>\n",
       "    </tr>\n",
       "    <tr>\n",
       "        <td>Andrew</td>\n",
       "        <td>10</td>\n",
       "        <td>Cassandra</td>\n",
       "        <td>9</td>\n",
       "        <td>Gabriel</td>\n",
       "        <td>9</td>\n",
       "    </tr>\n",
       "    <tr>\n",
       "        <td>Gabriel</td>\n",
       "        <td>11</td>\n",
       "        <td>Alexis</td>\n",
       "        <td>11</td>\n",
       "        <td>Kris</td>\n",
       "        <td>10</td>\n",
       "    </tr>\n",
       "</table>"
      ],
      "text/plain": [
       "[('Andrew', 10, 'Cassandra', 9, 'Gabriel', 9),\n",
       " ('Gabriel', 11, 'Alexis', 11, 'Kris', 10)]"
      ]
     },
     "execution_count": 17,
     "metadata": {},
     "output_type": "execute_result"
    }
   ],
   "source": [
    "%%sql\n",
    "select studentA.name as a_name, studentA.grade as a_grade,\n",
    "studentB.name as b_name, studentB.grade as b_grade,\n",
    "studentC.name as c_name, studentC.grade as c_grade\n",
    "from highschooler studentA, highschooler studentB, highschooler studentC\n",
    "where studentB.id in\n",
    "(select likes.id2\n",
    "    from likes\n",
    "    where likes.id1 = studentA.id)\n",
    "and studentA.id not in\n",
    "(select likes.id2\n",
    "    from likes\n",
    "    where likes.id1 = studentB.id)\n",
    "and studentC.ID in\n",
    "(select likes.id2\n",
    "    from likes\n",
    "    where likes.id1 = studentB.id)\n",
    "order by a_name;"
   ]
  },
  {
   "cell_type": "markdown",
   "metadata": {},
   "source": [
    "## Q11: Find those students for whom all of their friends are in different grades from themselves. Return the students' names and grades."
   ]
  },
  {
   "cell_type": "code",
   "execution_count": 18,
   "metadata": {},
   "outputs": [
    {
     "name": "stdout",
     "output_type": "stream",
     "text": [
      "1 rows affected.\n"
     ]
    },
    {
     "data": {
      "text/html": [
       "<table>\n",
       "    <tr>\n",
       "        <th>name</th>\n",
       "        <th>grade</th>\n",
       "    </tr>\n",
       "    <tr>\n",
       "        <td>Austin</td>\n",
       "        <td>11</td>\n",
       "    </tr>\n",
       "</table>"
      ],
      "text/plain": [
       "[('Austin', 11)]"
      ]
     },
     "execution_count": 18,
     "metadata": {},
     "output_type": "execute_result"
    }
   ],
   "source": [
    "%%sql\n",
    "select name, grade\n",
    "from highschooler\n",
    "except\n",
    "select distinct h1.name as name1, h1.grade as grade1\n",
    "from highschooler h1, highschooler h2, friend f\n",
    "where f.id1=h1.id and f.id2=h2.id and h1.grade = h2.grade\n",
    "order by name;"
   ]
  },
  {
   "cell_type": "markdown",
   "metadata": {},
   "source": [
    "## Q12: What is the average number of friends per student? (Your result should be just one number.)"
   ]
  },
  {
   "cell_type": "code",
   "execution_count": 19,
   "metadata": {},
   "outputs": [
    {
     "name": "stdout",
     "output_type": "stream",
     "text": [
      "1 rows affected.\n"
     ]
    },
    {
     "data": {
      "text/html": [
       "<table>\n",
       "    <tr>\n",
       "        <th>avg</th>\n",
       "    </tr>\n",
       "    <tr>\n",
       "        <td>2.5000000000000000</td>\n",
       "    </tr>\n",
       "</table>"
      ],
      "text/plain": [
       "[(Decimal('2.5000000000000000'),)]"
      ]
     },
     "execution_count": 19,
     "metadata": {},
     "output_type": "execute_result"
    }
   ],
   "source": [
    "%%sql\n",
    "select avg(total)\n",
    "from\n",
    "(select id1, count(id2) as total\n",
    "    from friend\n",
    "    group by id1) a;"
   ]
  },
  {
   "cell_type": "markdown",
   "metadata": {},
   "source": [
    "## Q13: Find the number of students who are either friends with Cassandra or are friends of friends of Cassandra. Do not count Cassandra, even though technically she is a friend of a friend."
   ]
  },
  {
   "cell_type": "code",
   "execution_count": 20,
   "metadata": {},
   "outputs": [
    {
     "name": "stdout",
     "output_type": "stream",
     "text": [
      "1 rows affected.\n"
     ]
    },
    {
     "data": {
      "text/html": [
       "<table>\n",
       "    <tr>\n",
       "        <th>count</th>\n",
       "    </tr>\n",
       "    <tr>\n",
       "        <td>7</td>\n",
       "    </tr>\n",
       "</table>"
      ],
      "text/plain": [
       "[(7,)]"
      ]
     },
     "execution_count": 20,
     "metadata": {},
     "output_type": "execute_result"
    }
   ],
   "source": [
    "%%sql\n",
    "select count(*)\n",
    "from\n",
    "(select id1, name, grade, id2\n",
    "    from highschooler, friend\n",
    "    where id=id1\n",
    "    and id not in\n",
    "    (select id\n",
    "        from highschooler\n",
    "        where name = 'Cassandra')\n",
    "    and id2 in\n",
    "    (select id\n",
    "        from highschooler\n",
    "        where name = 'Cassandra')\n",
    "    union\n",
    "    select id1, name, grade, id2\n",
    "    from highschooler, friend\n",
    "    where id=id1\n",
    "    and id not in\n",
    "    (select id\n",
    "        from highschooler\n",
    "        where name = 'Cassandra')\n",
    "    and id2 in\n",
    "    (select id1\n",
    "        from highschooler, friend\n",
    "        where id=id1\n",
    "        and id not in\n",
    "        (select id\n",
    "            from highschooler\n",
    "            where name = 'Cassandra')\n",
    "        and id2 in\n",
    "        (select id\n",
    "            from highschooler\n",
    "            where name = 'Cassandra'))) a;"
   ]
  },
  {
   "cell_type": "markdown",
   "metadata": {},
   "source": [
    "## Q14: Find the name and grade of the student(s) with the greatest number of friends."
   ]
  },
  {
   "cell_type": "code",
   "execution_count": 21,
   "metadata": {},
   "outputs": [
    {
     "name": "stdout",
     "output_type": "stream",
     "text": [
      "2 rows affected.\n"
     ]
    },
    {
     "data": {
      "text/html": [
       "<table>\n",
       "    <tr>\n",
       "        <th>name</th>\n",
       "        <th>grade</th>\n",
       "    </tr>\n",
       "    <tr>\n",
       "        <td>Alexis</td>\n",
       "        <td>11</td>\n",
       "    </tr>\n",
       "    <tr>\n",
       "        <td>Andrew</td>\n",
       "        <td>10</td>\n",
       "    </tr>\n",
       "</table>"
      ],
      "text/plain": [
       "[('Alexis', 11), ('Andrew', 10)]"
      ]
     },
     "execution_count": 21,
     "metadata": {},
     "output_type": "execute_result"
    }
   ],
   "source": [
    "%%sql\n",
    "select name, grade\n",
    "from\n",
    "(select id, name, grade, count(id2) as friends\n",
    "    from friend, highschooler\n",
    "    where id=id1\n",
    "    group by id, name, grade) a\n",
    "where friends >= all\n",
    "(select count(id2)\n",
    "    from friend, highschooler\n",
    "    where id=id1\n",
    "    group by id, name, grade)\n",
    "order by name;"
   ]
  },
  {
   "cell_type": "markdown",
   "metadata": {},
   "source": [
    "## Q15: It's time for the seniors to graduate. Remove all 12th graders from Highschooler."
   ]
  },
  {
   "cell_type": "markdown",
   "metadata": {},
   "source": [
    "### There are 16 highschoolers, which includes four 12th graders"
   ]
  },
  {
   "cell_type": "code",
   "execution_count": 22,
   "metadata": {},
   "outputs": [
    {
     "name": "stdout",
     "output_type": "stream",
     "text": [
      "4 rows affected.\n"
     ]
    },
    {
     "data": {
      "text/plain": [
       "[]"
      ]
     },
     "execution_count": 22,
     "metadata": {},
     "output_type": "execute_result"
    }
   ],
   "source": [
    "%%sql\n",
    "delete from highschooler\n",
    "    where id in\n",
    "    (select id\n",
    "        from highschooler\n",
    "        where grade = 12);"
   ]
  },
  {
   "cell_type": "markdown",
   "metadata": {},
   "source": [
    "### See that the deletion occured."
   ]
  },
  {
   "cell_type": "code",
   "execution_count": 23,
   "metadata": {},
   "outputs": [
    {
     "name": "stdout",
     "output_type": "stream",
     "text": [
      "12 rows affected.\n"
     ]
    },
    {
     "data": {
      "text/html": [
       "<table>\n",
       "    <tr>\n",
       "        <th>id</th>\n",
       "        <th>name</th>\n",
       "        <th>grade</th>\n",
       "    </tr>\n",
       "    <tr>\n",
       "        <td>1510</td>\n",
       "        <td>Jordan</td>\n",
       "        <td>9</td>\n",
       "    </tr>\n",
       "    <tr>\n",
       "        <td>1689</td>\n",
       "        <td>Gabriel</td>\n",
       "        <td>9</td>\n",
       "    </tr>\n",
       "    <tr>\n",
       "        <td>1381</td>\n",
       "        <td>Tiffany</td>\n",
       "        <td>9</td>\n",
       "    </tr>\n",
       "    <tr>\n",
       "        <td>1709</td>\n",
       "        <td>Cassandra</td>\n",
       "        <td>9</td>\n",
       "    </tr>\n",
       "    <tr>\n",
       "        <td>1101</td>\n",
       "        <td>Haley</td>\n",
       "        <td>10</td>\n",
       "    </tr>\n",
       "    <tr>\n",
       "        <td>1782</td>\n",
       "        <td>Andrew</td>\n",
       "        <td>10</td>\n",
       "    </tr>\n",
       "    <tr>\n",
       "        <td>1468</td>\n",
       "        <td>Kris</td>\n",
       "        <td>10</td>\n",
       "    </tr>\n",
       "    <tr>\n",
       "        <td>1641</td>\n",
       "        <td>Brittany</td>\n",
       "        <td>10</td>\n",
       "    </tr>\n",
       "    <tr>\n",
       "        <td>1247</td>\n",
       "        <td>Alexis</td>\n",
       "        <td>11</td>\n",
       "    </tr>\n",
       "    <tr>\n",
       "        <td>1316</td>\n",
       "        <td>Austin</td>\n",
       "        <td>11</td>\n",
       "    </tr>\n",
       "    <tr>\n",
       "        <td>1911</td>\n",
       "        <td>Gabriel</td>\n",
       "        <td>11</td>\n",
       "    </tr>\n",
       "    <tr>\n",
       "        <td>1501</td>\n",
       "        <td>Jessica</td>\n",
       "        <td>11</td>\n",
       "    </tr>\n",
       "</table>"
      ],
      "text/plain": [
       "[(1510, 'Jordan', 9),\n",
       " (1689, 'Gabriel', 9),\n",
       " (1381, 'Tiffany', 9),\n",
       " (1709, 'Cassandra', 9),\n",
       " (1101, 'Haley', 10),\n",
       " (1782, 'Andrew', 10),\n",
       " (1468, 'Kris', 10),\n",
       " (1641, 'Brittany', 10),\n",
       " (1247, 'Alexis', 11),\n",
       " (1316, 'Austin', 11),\n",
       " (1911, 'Gabriel', 11),\n",
       " (1501, 'Jessica', 11)]"
      ]
     },
     "execution_count": 23,
     "metadata": {},
     "output_type": "execute_result"
    }
   ],
   "source": [
    "%%sql\n",
    "select *\n",
    "from highschooler\n",
    "order by grade;"
   ]
  },
  {
   "cell_type": "markdown",
   "metadata": {},
   "source": [
    "## Q16: If two students A and B are friends, and A likes B but not vice-versa, remove the Likes tuple."
   ]
  },
  {
   "cell_type": "markdown",
   "metadata": {},
   "source": [
    "### As a reminder, there are 10 Likes tuples."
   ]
  },
  {
   "cell_type": "code",
   "execution_count": 24,
   "metadata": {},
   "outputs": [
    {
     "name": "stdout",
     "output_type": "stream",
     "text": [
      "10 rows affected.\n"
     ]
    },
    {
     "data": {
      "text/html": [
       "<table>\n",
       "    <tr>\n",
       "        <th>id1</th>\n",
       "        <th>id2</th>\n",
       "    </tr>\n",
       "    <tr>\n",
       "        <td>1689</td>\n",
       "        <td>1709</td>\n",
       "    </tr>\n",
       "    <tr>\n",
       "        <td>1709</td>\n",
       "        <td>1689</td>\n",
       "    </tr>\n",
       "    <tr>\n",
       "        <td>1782</td>\n",
       "        <td>1709</td>\n",
       "    </tr>\n",
       "    <tr>\n",
       "        <td>1911</td>\n",
       "        <td>1247</td>\n",
       "    </tr>\n",
       "    <tr>\n",
       "        <td>1247</td>\n",
       "        <td>1468</td>\n",
       "    </tr>\n",
       "    <tr>\n",
       "        <td>1641</td>\n",
       "        <td>1468</td>\n",
       "    </tr>\n",
       "    <tr>\n",
       "        <td>1316</td>\n",
       "        <td>1304</td>\n",
       "    </tr>\n",
       "    <tr>\n",
       "        <td>1501</td>\n",
       "        <td>1934</td>\n",
       "    </tr>\n",
       "    <tr>\n",
       "        <td>1934</td>\n",
       "        <td>1501</td>\n",
       "    </tr>\n",
       "    <tr>\n",
       "        <td>1025</td>\n",
       "        <td>1101</td>\n",
       "    </tr>\n",
       "</table>"
      ],
      "text/plain": [
       "[(1689, 1709),\n",
       " (1709, 1689),\n",
       " (1782, 1709),\n",
       " (1911, 1247),\n",
       " (1247, 1468),\n",
       " (1641, 1468),\n",
       " (1316, 1304),\n",
       " (1501, 1934),\n",
       " (1934, 1501),\n",
       " (1025, 1101)]"
      ]
     },
     "execution_count": 24,
     "metadata": {},
     "output_type": "execute_result"
    }
   ],
   "source": [
    "%%sql\n",
    "select * from likes;"
   ]
  },
  {
   "cell_type": "code",
   "execution_count": 25,
   "metadata": {},
   "outputs": [
    {
     "name": "stdout",
     "output_type": "stream",
     "text": [
      "2 rows affected.\n"
     ]
    },
    {
     "data": {
      "text/plain": [
       "[]"
      ]
     },
     "execution_count": 25,
     "metadata": {},
     "output_type": "execute_result"
    }
   ],
   "source": [
    "%%sql\n",
    "delete from likes\n",
    "    where id1 in\n",
    "    (select studentA.id\n",
    "        from highschooler studentA, highschooler studentB\n",
    "        where studentB.id in\n",
    "        (select likes.id2\n",
    "            from likes\n",
    "            where likes.id1 = studentA.id)\n",
    "        and studentA.id not in\n",
    "        (select likes.id2\n",
    "            from likes\n",
    "            where likes.id1 = studentB.id)\n",
    "        and studentB.id in\n",
    "        (select friend.id2\n",
    "            from friend\n",
    "            where friend.id1 = studentA.id))\n",
    "    and id2 in\n",
    "    (select studentB.id\n",
    "        from highschooler studentA, highschooler studentB\n",
    "        where studentB.id in\n",
    "        (select likes.id2\n",
    "            from likes\n",
    "            where likes.id1 = studentA.id)\n",
    "        and studentA.id not in\n",
    "        (select likes.id2\n",
    "            from likes\n",
    "            where likes.id1 = studentB.id)\n",
    "        and studentB.id in\n",
    "        (select friend.id2\n",
    "            from friend\n",
    "            where friend.id1 = studentA.id));"
   ]
  },
  {
   "cell_type": "code",
   "execution_count": 26,
   "metadata": {},
   "outputs": [
    {
     "name": "stdout",
     "output_type": "stream",
     "text": [
      "8 rows affected.\n"
     ]
    },
    {
     "data": {
      "text/html": [
       "<table>\n",
       "    <tr>\n",
       "        <th>id1</th>\n",
       "        <th>id2</th>\n",
       "    </tr>\n",
       "    <tr>\n",
       "        <td>1689</td>\n",
       "        <td>1709</td>\n",
       "    </tr>\n",
       "    <tr>\n",
       "        <td>1709</td>\n",
       "        <td>1689</td>\n",
       "    </tr>\n",
       "    <tr>\n",
       "        <td>1782</td>\n",
       "        <td>1709</td>\n",
       "    </tr>\n",
       "    <tr>\n",
       "        <td>1247</td>\n",
       "        <td>1468</td>\n",
       "    </tr>\n",
       "    <tr>\n",
       "        <td>1316</td>\n",
       "        <td>1304</td>\n",
       "    </tr>\n",
       "    <tr>\n",
       "        <td>1501</td>\n",
       "        <td>1934</td>\n",
       "    </tr>\n",
       "    <tr>\n",
       "        <td>1934</td>\n",
       "        <td>1501</td>\n",
       "    </tr>\n",
       "    <tr>\n",
       "        <td>1025</td>\n",
       "        <td>1101</td>\n",
       "    </tr>\n",
       "</table>"
      ],
      "text/plain": [
       "[(1689, 1709),\n",
       " (1709, 1689),\n",
       " (1782, 1709),\n",
       " (1247, 1468),\n",
       " (1316, 1304),\n",
       " (1501, 1934),\n",
       " (1934, 1501),\n",
       " (1025, 1101)]"
      ]
     },
     "execution_count": 26,
     "metadata": {},
     "output_type": "execute_result"
    }
   ],
   "source": [
    "%%sql\n",
    "select * from likes;"
   ]
  },
  {
   "cell_type": "markdown",
   "metadata": {},
   "source": [
    "## Q17: For all cases where A is friends with B, and B is friends with C, add a new friendship for the pair A and C. Do not add duplicate friendships, friendships that already exist, or friendships with oneself."
   ]
  },
  {
   "cell_type": "markdown",
   "metadata": {},
   "source": [
    "### As a reminder, there are 40 Friend tuples (20 friendships)."
   ]
  },
  {
   "cell_type": "code",
   "execution_count": 27,
   "metadata": {},
   "outputs": [
    {
     "name": "stdout",
     "output_type": "stream",
     "text": [
      "40 rows affected.\n"
     ]
    },
    {
     "data": {
      "text/html": [
       "<table>\n",
       "    <tr>\n",
       "        <th>id1</th>\n",
       "        <th>id2</th>\n",
       "    </tr>\n",
       "    <tr>\n",
       "        <td>1025</td>\n",
       "        <td>1661</td>\n",
       "    </tr>\n",
       "    <tr>\n",
       "        <td>1101</td>\n",
       "        <td>1468</td>\n",
       "    </tr>\n",
       "    <tr>\n",
       "        <td>1101</td>\n",
       "        <td>1641</td>\n",
       "    </tr>\n",
       "    <tr>\n",
       "        <td>1247</td>\n",
       "        <td>1381</td>\n",
       "    </tr>\n",
       "    <tr>\n",
       "        <td>1247</td>\n",
       "        <td>1501</td>\n",
       "    </tr>\n",
       "    <tr>\n",
       "        <td>1247</td>\n",
       "        <td>1709</td>\n",
       "    </tr>\n",
       "    <tr>\n",
       "        <td>1247</td>\n",
       "        <td>1911</td>\n",
       "    </tr>\n",
       "    <tr>\n",
       "        <td>1304</td>\n",
       "        <td>1661</td>\n",
       "    </tr>\n",
       "    <tr>\n",
       "        <td>1304</td>\n",
       "        <td>1782</td>\n",
       "    </tr>\n",
       "    <tr>\n",
       "        <td>1304</td>\n",
       "        <td>1934</td>\n",
       "    </tr>\n",
       "    <tr>\n",
       "        <td>1316</td>\n",
       "        <td>1782</td>\n",
       "    </tr>\n",
       "    <tr>\n",
       "        <td>1316</td>\n",
       "        <td>1934</td>\n",
       "    </tr>\n",
       "    <tr>\n",
       "        <td>1381</td>\n",
       "        <td>1247</td>\n",
       "    </tr>\n",
       "    <tr>\n",
       "        <td>1381</td>\n",
       "        <td>1510</td>\n",
       "    </tr>\n",
       "    <tr>\n",
       "        <td>1468</td>\n",
       "        <td>1101</td>\n",
       "    </tr>\n",
       "    <tr>\n",
       "        <td>1468</td>\n",
       "        <td>1641</td>\n",
       "    </tr>\n",
       "    <tr>\n",
       "        <td>1468</td>\n",
       "        <td>1782</td>\n",
       "    </tr>\n",
       "    <tr>\n",
       "        <td>1501</td>\n",
       "        <td>1247</td>\n",
       "    </tr>\n",
       "    <tr>\n",
       "        <td>1501</td>\n",
       "        <td>1911</td>\n",
       "    </tr>\n",
       "    <tr>\n",
       "        <td>1501</td>\n",
       "        <td>1934</td>\n",
       "    </tr>\n",
       "    <tr>\n",
       "        <td>1510</td>\n",
       "        <td>1381</td>\n",
       "    </tr>\n",
       "    <tr>\n",
       "        <td>1510</td>\n",
       "        <td>1689</td>\n",
       "    </tr>\n",
       "    <tr>\n",
       "        <td>1641</td>\n",
       "        <td>1101</td>\n",
       "    </tr>\n",
       "    <tr>\n",
       "        <td>1641</td>\n",
       "        <td>1468</td>\n",
       "    </tr>\n",
       "    <tr>\n",
       "        <td>1661</td>\n",
       "        <td>1025</td>\n",
       "    </tr>\n",
       "    <tr>\n",
       "        <td>1661</td>\n",
       "        <td>1304</td>\n",
       "    </tr>\n",
       "    <tr>\n",
       "        <td>1689</td>\n",
       "        <td>1510</td>\n",
       "    </tr>\n",
       "    <tr>\n",
       "        <td>1689</td>\n",
       "        <td>1709</td>\n",
       "    </tr>\n",
       "    <tr>\n",
       "        <td>1689</td>\n",
       "        <td>1782</td>\n",
       "    </tr>\n",
       "    <tr>\n",
       "        <td>1709</td>\n",
       "        <td>1247</td>\n",
       "    </tr>\n",
       "    <tr>\n",
       "        <td>1709</td>\n",
       "        <td>1689</td>\n",
       "    </tr>\n",
       "    <tr>\n",
       "        <td>1782</td>\n",
       "        <td>1304</td>\n",
       "    </tr>\n",
       "    <tr>\n",
       "        <td>1782</td>\n",
       "        <td>1316</td>\n",
       "    </tr>\n",
       "    <tr>\n",
       "        <td>1782</td>\n",
       "        <td>1468</td>\n",
       "    </tr>\n",
       "    <tr>\n",
       "        <td>1782</td>\n",
       "        <td>1689</td>\n",
       "    </tr>\n",
       "    <tr>\n",
       "        <td>1911</td>\n",
       "        <td>1247</td>\n",
       "    </tr>\n",
       "    <tr>\n",
       "        <td>1911</td>\n",
       "        <td>1501</td>\n",
       "    </tr>\n",
       "    <tr>\n",
       "        <td>1934</td>\n",
       "        <td>1304</td>\n",
       "    </tr>\n",
       "    <tr>\n",
       "        <td>1934</td>\n",
       "        <td>1316</td>\n",
       "    </tr>\n",
       "    <tr>\n",
       "        <td>1934</td>\n",
       "        <td>1501</td>\n",
       "    </tr>\n",
       "</table>"
      ],
      "text/plain": [
       "[(1025, 1661),\n",
       " (1101, 1468),\n",
       " (1101, 1641),\n",
       " (1247, 1381),\n",
       " (1247, 1501),\n",
       " (1247, 1709),\n",
       " (1247, 1911),\n",
       " (1304, 1661),\n",
       " (1304, 1782),\n",
       " (1304, 1934),\n",
       " (1316, 1782),\n",
       " (1316, 1934),\n",
       " (1381, 1247),\n",
       " (1381, 1510),\n",
       " (1468, 1101),\n",
       " (1468, 1641),\n",
       " (1468, 1782),\n",
       " (1501, 1247),\n",
       " (1501, 1911),\n",
       " (1501, 1934),\n",
       " (1510, 1381),\n",
       " (1510, 1689),\n",
       " (1641, 1101),\n",
       " (1641, 1468),\n",
       " (1661, 1025),\n",
       " (1661, 1304),\n",
       " (1689, 1510),\n",
       " (1689, 1709),\n",
       " (1689, 1782),\n",
       " (1709, 1247),\n",
       " (1709, 1689),\n",
       " (1782, 1304),\n",
       " (1782, 1316),\n",
       " (1782, 1468),\n",
       " (1782, 1689),\n",
       " (1911, 1247),\n",
       " (1911, 1501),\n",
       " (1934, 1304),\n",
       " (1934, 1316),\n",
       " (1934, 1501)]"
      ]
     },
     "execution_count": 27,
     "metadata": {},
     "output_type": "execute_result"
    }
   ],
   "source": [
    "%%sql\n",
    "select * from friend\n",
    "order by id1, id2;"
   ]
  },
  {
   "cell_type": "markdown",
   "metadata": {},
   "source": [
    "### Need to add 32 Friend tuples (16 friendships)."
   ]
  },
  {
   "cell_type": "code",
   "execution_count": 28,
   "metadata": {},
   "outputs": [
    {
     "name": "stdout",
     "output_type": "stream",
     "text": [
      "32 rows affected.\n"
     ]
    },
    {
     "data": {
      "text/html": [
       "<table>\n",
       "    <tr>\n",
       "        <th>student_a</th>\n",
       "        <th>student_c</th>\n",
       "    </tr>\n",
       "    <tr>\n",
       "        <td>1101</td>\n",
       "        <td>1782</td>\n",
       "    </tr>\n",
       "    <tr>\n",
       "        <td>1247</td>\n",
       "        <td>1510</td>\n",
       "    </tr>\n",
       "    <tr>\n",
       "        <td>1247</td>\n",
       "        <td>1689</td>\n",
       "    </tr>\n",
       "    <tr>\n",
       "        <td>1316</td>\n",
       "        <td>1468</td>\n",
       "    </tr>\n",
       "    <tr>\n",
       "        <td>1316</td>\n",
       "        <td>1689</td>\n",
       "    </tr>\n",
       "    <tr>\n",
       "        <td>1381</td>\n",
       "        <td>1501</td>\n",
       "    </tr>\n",
       "    <tr>\n",
       "        <td>1381</td>\n",
       "        <td>1689</td>\n",
       "    </tr>\n",
       "    <tr>\n",
       "        <td>1381</td>\n",
       "        <td>1709</td>\n",
       "    </tr>\n",
       "    <tr>\n",
       "        <td>1381</td>\n",
       "        <td>1911</td>\n",
       "    </tr>\n",
       "    <tr>\n",
       "        <td>1468</td>\n",
       "        <td>1316</td>\n",
       "    </tr>\n",
       "    <tr>\n",
       "        <td>1468</td>\n",
       "        <td>1689</td>\n",
       "    </tr>\n",
       "    <tr>\n",
       "        <td>1501</td>\n",
       "        <td>1381</td>\n",
       "    </tr>\n",
       "    <tr>\n",
       "        <td>1501</td>\n",
       "        <td>1709</td>\n",
       "    </tr>\n",
       "    <tr>\n",
       "        <td>1510</td>\n",
       "        <td>1247</td>\n",
       "    </tr>\n",
       "    <tr>\n",
       "        <td>1510</td>\n",
       "        <td>1709</td>\n",
       "    </tr>\n",
       "    <tr>\n",
       "        <td>1510</td>\n",
       "        <td>1782</td>\n",
       "    </tr>\n",
       "    <tr>\n",
       "        <td>1641</td>\n",
       "        <td>1782</td>\n",
       "    </tr>\n",
       "    <tr>\n",
       "        <td>1689</td>\n",
       "        <td>1247</td>\n",
       "    </tr>\n",
       "    <tr>\n",
       "        <td>1689</td>\n",
       "        <td>1316</td>\n",
       "    </tr>\n",
       "    <tr>\n",
       "        <td>1689</td>\n",
       "        <td>1381</td>\n",
       "    </tr>\n",
       "    <tr>\n",
       "        <td>1689</td>\n",
       "        <td>1468</td>\n",
       "    </tr>\n",
       "    <tr>\n",
       "        <td>1709</td>\n",
       "        <td>1381</td>\n",
       "    </tr>\n",
       "    <tr>\n",
       "        <td>1709</td>\n",
       "        <td>1501</td>\n",
       "    </tr>\n",
       "    <tr>\n",
       "        <td>1709</td>\n",
       "        <td>1510</td>\n",
       "    </tr>\n",
       "    <tr>\n",
       "        <td>1709</td>\n",
       "        <td>1782</td>\n",
       "    </tr>\n",
       "    <tr>\n",
       "        <td>1709</td>\n",
       "        <td>1911</td>\n",
       "    </tr>\n",
       "    <tr>\n",
       "        <td>1782</td>\n",
       "        <td>1101</td>\n",
       "    </tr>\n",
       "    <tr>\n",
       "        <td>1782</td>\n",
       "        <td>1510</td>\n",
       "    </tr>\n",
       "    <tr>\n",
       "        <td>1782</td>\n",
       "        <td>1641</td>\n",
       "    </tr>\n",
       "    <tr>\n",
       "        <td>1782</td>\n",
       "        <td>1709</td>\n",
       "    </tr>\n",
       "    <tr>\n",
       "        <td>1911</td>\n",
       "        <td>1381</td>\n",
       "    </tr>\n",
       "    <tr>\n",
       "        <td>1911</td>\n",
       "        <td>1709</td>\n",
       "    </tr>\n",
       "</table>"
      ],
      "text/plain": [
       "[(1101, 1782),\n",
       " (1247, 1510),\n",
       " (1247, 1689),\n",
       " (1316, 1468),\n",
       " (1316, 1689),\n",
       " (1381, 1501),\n",
       " (1381, 1689),\n",
       " (1381, 1709),\n",
       " (1381, 1911),\n",
       " (1468, 1316),\n",
       " (1468, 1689),\n",
       " (1501, 1381),\n",
       " (1501, 1709),\n",
       " (1510, 1247),\n",
       " (1510, 1709),\n",
       " (1510, 1782),\n",
       " (1641, 1782),\n",
       " (1689, 1247),\n",
       " (1689, 1316),\n",
       " (1689, 1381),\n",
       " (1689, 1468),\n",
       " (1709, 1381),\n",
       " (1709, 1501),\n",
       " (1709, 1510),\n",
       " (1709, 1782),\n",
       " (1709, 1911),\n",
       " (1782, 1101),\n",
       " (1782, 1510),\n",
       " (1782, 1641),\n",
       " (1782, 1709),\n",
       " (1911, 1381),\n",
       " (1911, 1709)]"
      ]
     },
     "execution_count": 28,
     "metadata": {},
     "output_type": "execute_result"
    }
   ],
   "source": [
    "%%sql\n",
    "select distinct studentA.id as student_a, studentC.id as student_c\n",
    "from highschooler studentA, highschooler studentB, highschooler studentC\n",
    "where studentB.id in\n",
    "(select friend.id2\n",
    "    from friend\n",
    "    where friend.id1 = studentA.id)\n",
    "and studentC.id in\n",
    "(select friend.id2\n",
    "    from friend\n",
    "    where friend.id1 = studentB.id)\n",
    "and studentC.id not in\n",
    "(select friend.id2\n",
    "    from friend\n",
    "    where friend.id1 = studentA.id)\n",
    "and studentA.id not in\n",
    "(select friend.id2\n",
    "    from friend\n",
    "    where friend.id1 = studentC.id)\n",
    "and studentA.id not in\n",
    "(select friend.id2\n",
    "    from friend\n",
    "    where friend.id1 =studentA.id)\n",
    "and studentC.id not in\n",
    "(select friend.id2\n",
    "    from friend\n",
    "    where friend.id1 = studentC.id)\n",
    "and studentA.id != studentC.id\n",
    "order by studentA.id, studentC.id;"
   ]
  },
  {
   "cell_type": "code",
   "execution_count": 29,
   "metadata": {},
   "outputs": [
    {
     "name": "stdout",
     "output_type": "stream",
     "text": [
      "32 rows affected.\n"
     ]
    },
    {
     "data": {
      "text/plain": [
       "[]"
      ]
     },
     "execution_count": 29,
     "metadata": {},
     "output_type": "execute_result"
    }
   ],
   "source": [
    "%%sql\n",
    "insert into friend\n",
    "    select distinct studentA.id, studentC.id\n",
    "    from highschooler studentA, highschooler studentB, highschooler studentC\n",
    "    where studentB.id in\n",
    "    (select friend.id2\n",
    "        from friend\n",
    "        where friend.id1 = studentA.id)\n",
    "    and studentC.id in\n",
    "    (select friend.id2\n",
    "        from friend\n",
    "        where friend.id1 = studentB.id)\n",
    "    and studentC.id not in\n",
    "    (select friend.id2\n",
    "        from friend\n",
    "        where friend.id1 = studentA.id)\n",
    "    and studentA.id not in\n",
    "    (select friend.id2\n",
    "        from friend\n",
    "        where friend.id1 = studentC.id)\n",
    "    and studentA.id not in\n",
    "    (select friend.id2\n",
    "        from friend\n",
    "        where friend.id1 = studentA.id)\n",
    "    and studentC.id not in\n",
    "    (select friend.id2\n",
    "        from friend\n",
    "        where friend.id1 = studentC.id)\n",
    "    and studentA.id != studentC.id;"
   ]
  },
  {
   "cell_type": "markdown",
   "metadata": {},
   "source": [
    "### Now there are 72 Friend tuples (36 friendships)."
   ]
  },
  {
   "cell_type": "code",
   "execution_count": 30,
   "metadata": {},
   "outputs": [
    {
     "name": "stdout",
     "output_type": "stream",
     "text": [
      "72 rows affected.\n"
     ]
    },
    {
     "data": {
      "text/html": [
       "<table>\n",
       "    <tr>\n",
       "        <th>id1</th>\n",
       "        <th>id2</th>\n",
       "    </tr>\n",
       "    <tr>\n",
       "        <td>1025</td>\n",
       "        <td>1661</td>\n",
       "    </tr>\n",
       "    <tr>\n",
       "        <td>1101</td>\n",
       "        <td>1468</td>\n",
       "    </tr>\n",
       "    <tr>\n",
       "        <td>1101</td>\n",
       "        <td>1641</td>\n",
       "    </tr>\n",
       "    <tr>\n",
       "        <td>1101</td>\n",
       "        <td>1782</td>\n",
       "    </tr>\n",
       "    <tr>\n",
       "        <td>1247</td>\n",
       "        <td>1381</td>\n",
       "    </tr>\n",
       "    <tr>\n",
       "        <td>1247</td>\n",
       "        <td>1501</td>\n",
       "    </tr>\n",
       "    <tr>\n",
       "        <td>1247</td>\n",
       "        <td>1510</td>\n",
       "    </tr>\n",
       "    <tr>\n",
       "        <td>1247</td>\n",
       "        <td>1689</td>\n",
       "    </tr>\n",
       "    <tr>\n",
       "        <td>1247</td>\n",
       "        <td>1709</td>\n",
       "    </tr>\n",
       "    <tr>\n",
       "        <td>1247</td>\n",
       "        <td>1911</td>\n",
       "    </tr>\n",
       "    <tr>\n",
       "        <td>1304</td>\n",
       "        <td>1661</td>\n",
       "    </tr>\n",
       "    <tr>\n",
       "        <td>1304</td>\n",
       "        <td>1782</td>\n",
       "    </tr>\n",
       "    <tr>\n",
       "        <td>1304</td>\n",
       "        <td>1934</td>\n",
       "    </tr>\n",
       "    <tr>\n",
       "        <td>1316</td>\n",
       "        <td>1468</td>\n",
       "    </tr>\n",
       "    <tr>\n",
       "        <td>1316</td>\n",
       "        <td>1689</td>\n",
       "    </tr>\n",
       "    <tr>\n",
       "        <td>1316</td>\n",
       "        <td>1782</td>\n",
       "    </tr>\n",
       "    <tr>\n",
       "        <td>1316</td>\n",
       "        <td>1934</td>\n",
       "    </tr>\n",
       "    <tr>\n",
       "        <td>1381</td>\n",
       "        <td>1247</td>\n",
       "    </tr>\n",
       "    <tr>\n",
       "        <td>1381</td>\n",
       "        <td>1501</td>\n",
       "    </tr>\n",
       "    <tr>\n",
       "        <td>1381</td>\n",
       "        <td>1510</td>\n",
       "    </tr>\n",
       "    <tr>\n",
       "        <td>1381</td>\n",
       "        <td>1689</td>\n",
       "    </tr>\n",
       "    <tr>\n",
       "        <td>1381</td>\n",
       "        <td>1709</td>\n",
       "    </tr>\n",
       "    <tr>\n",
       "        <td>1381</td>\n",
       "        <td>1911</td>\n",
       "    </tr>\n",
       "    <tr>\n",
       "        <td>1468</td>\n",
       "        <td>1101</td>\n",
       "    </tr>\n",
       "    <tr>\n",
       "        <td>1468</td>\n",
       "        <td>1316</td>\n",
       "    </tr>\n",
       "    <tr>\n",
       "        <td>1468</td>\n",
       "        <td>1641</td>\n",
       "    </tr>\n",
       "    <tr>\n",
       "        <td>1468</td>\n",
       "        <td>1689</td>\n",
       "    </tr>\n",
       "    <tr>\n",
       "        <td>1468</td>\n",
       "        <td>1782</td>\n",
       "    </tr>\n",
       "    <tr>\n",
       "        <td>1501</td>\n",
       "        <td>1247</td>\n",
       "    </tr>\n",
       "    <tr>\n",
       "        <td>1501</td>\n",
       "        <td>1381</td>\n",
       "    </tr>\n",
       "    <tr>\n",
       "        <td>1501</td>\n",
       "        <td>1709</td>\n",
       "    </tr>\n",
       "    <tr>\n",
       "        <td>1501</td>\n",
       "        <td>1911</td>\n",
       "    </tr>\n",
       "    <tr>\n",
       "        <td>1501</td>\n",
       "        <td>1934</td>\n",
       "    </tr>\n",
       "    <tr>\n",
       "        <td>1510</td>\n",
       "        <td>1247</td>\n",
       "    </tr>\n",
       "    <tr>\n",
       "        <td>1510</td>\n",
       "        <td>1381</td>\n",
       "    </tr>\n",
       "    <tr>\n",
       "        <td>1510</td>\n",
       "        <td>1689</td>\n",
       "    </tr>\n",
       "    <tr>\n",
       "        <td>1510</td>\n",
       "        <td>1709</td>\n",
       "    </tr>\n",
       "    <tr>\n",
       "        <td>1510</td>\n",
       "        <td>1782</td>\n",
       "    </tr>\n",
       "    <tr>\n",
       "        <td>1641</td>\n",
       "        <td>1101</td>\n",
       "    </tr>\n",
       "    <tr>\n",
       "        <td>1641</td>\n",
       "        <td>1468</td>\n",
       "    </tr>\n",
       "    <tr>\n",
       "        <td>1641</td>\n",
       "        <td>1782</td>\n",
       "    </tr>\n",
       "    <tr>\n",
       "        <td>1661</td>\n",
       "        <td>1025</td>\n",
       "    </tr>\n",
       "    <tr>\n",
       "        <td>1661</td>\n",
       "        <td>1304</td>\n",
       "    </tr>\n",
       "    <tr>\n",
       "        <td>1689</td>\n",
       "        <td>1247</td>\n",
       "    </tr>\n",
       "    <tr>\n",
       "        <td>1689</td>\n",
       "        <td>1316</td>\n",
       "    </tr>\n",
       "    <tr>\n",
       "        <td>1689</td>\n",
       "        <td>1381</td>\n",
       "    </tr>\n",
       "    <tr>\n",
       "        <td>1689</td>\n",
       "        <td>1468</td>\n",
       "    </tr>\n",
       "    <tr>\n",
       "        <td>1689</td>\n",
       "        <td>1510</td>\n",
       "    </tr>\n",
       "    <tr>\n",
       "        <td>1689</td>\n",
       "        <td>1709</td>\n",
       "    </tr>\n",
       "    <tr>\n",
       "        <td>1689</td>\n",
       "        <td>1782</td>\n",
       "    </tr>\n",
       "    <tr>\n",
       "        <td>1709</td>\n",
       "        <td>1247</td>\n",
       "    </tr>\n",
       "    <tr>\n",
       "        <td>1709</td>\n",
       "        <td>1381</td>\n",
       "    </tr>\n",
       "    <tr>\n",
       "        <td>1709</td>\n",
       "        <td>1501</td>\n",
       "    </tr>\n",
       "    <tr>\n",
       "        <td>1709</td>\n",
       "        <td>1510</td>\n",
       "    </tr>\n",
       "    <tr>\n",
       "        <td>1709</td>\n",
       "        <td>1689</td>\n",
       "    </tr>\n",
       "    <tr>\n",
       "        <td>1709</td>\n",
       "        <td>1782</td>\n",
       "    </tr>\n",
       "    <tr>\n",
       "        <td>1709</td>\n",
       "        <td>1911</td>\n",
       "    </tr>\n",
       "    <tr>\n",
       "        <td>1782</td>\n",
       "        <td>1101</td>\n",
       "    </tr>\n",
       "    <tr>\n",
       "        <td>1782</td>\n",
       "        <td>1304</td>\n",
       "    </tr>\n",
       "    <tr>\n",
       "        <td>1782</td>\n",
       "        <td>1316</td>\n",
       "    </tr>\n",
       "    <tr>\n",
       "        <td>1782</td>\n",
       "        <td>1468</td>\n",
       "    </tr>\n",
       "    <tr>\n",
       "        <td>1782</td>\n",
       "        <td>1510</td>\n",
       "    </tr>\n",
       "    <tr>\n",
       "        <td>1782</td>\n",
       "        <td>1641</td>\n",
       "    </tr>\n",
       "    <tr>\n",
       "        <td>1782</td>\n",
       "        <td>1689</td>\n",
       "    </tr>\n",
       "    <tr>\n",
       "        <td>1782</td>\n",
       "        <td>1709</td>\n",
       "    </tr>\n",
       "    <tr>\n",
       "        <td>1911</td>\n",
       "        <td>1247</td>\n",
       "    </tr>\n",
       "    <tr>\n",
       "        <td>1911</td>\n",
       "        <td>1381</td>\n",
       "    </tr>\n",
       "    <tr>\n",
       "        <td>1911</td>\n",
       "        <td>1501</td>\n",
       "    </tr>\n",
       "    <tr>\n",
       "        <td>1911</td>\n",
       "        <td>1709</td>\n",
       "    </tr>\n",
       "    <tr>\n",
       "        <td>1934</td>\n",
       "        <td>1304</td>\n",
       "    </tr>\n",
       "    <tr>\n",
       "        <td>1934</td>\n",
       "        <td>1316</td>\n",
       "    </tr>\n",
       "    <tr>\n",
       "        <td>1934</td>\n",
       "        <td>1501</td>\n",
       "    </tr>\n",
       "</table>"
      ],
      "text/plain": [
       "[(1025, 1661),\n",
       " (1101, 1468),\n",
       " (1101, 1641),\n",
       " (1101, 1782),\n",
       " (1247, 1381),\n",
       " (1247, 1501),\n",
       " (1247, 1510),\n",
       " (1247, 1689),\n",
       " (1247, 1709),\n",
       " (1247, 1911),\n",
       " (1304, 1661),\n",
       " (1304, 1782),\n",
       " (1304, 1934),\n",
       " (1316, 1468),\n",
       " (1316, 1689),\n",
       " (1316, 1782),\n",
       " (1316, 1934),\n",
       " (1381, 1247),\n",
       " (1381, 1501),\n",
       " (1381, 1510),\n",
       " (1381, 1689),\n",
       " (1381, 1709),\n",
       " (1381, 1911),\n",
       " (1468, 1101),\n",
       " (1468, 1316),\n",
       " (1468, 1641),\n",
       " (1468, 1689),\n",
       " (1468, 1782),\n",
       " (1501, 1247),\n",
       " (1501, 1381),\n",
       " (1501, 1709),\n",
       " (1501, 1911),\n",
       " (1501, 1934),\n",
       " (1510, 1247),\n",
       " (1510, 1381),\n",
       " (1510, 1689),\n",
       " (1510, 1709),\n",
       " (1510, 1782),\n",
       " (1641, 1101),\n",
       " (1641, 1468),\n",
       " (1641, 1782),\n",
       " (1661, 1025),\n",
       " (1661, 1304),\n",
       " (1689, 1247),\n",
       " (1689, 1316),\n",
       " (1689, 1381),\n",
       " (1689, 1468),\n",
       " (1689, 1510),\n",
       " (1689, 1709),\n",
       " (1689, 1782),\n",
       " (1709, 1247),\n",
       " (1709, 1381),\n",
       " (1709, 1501),\n",
       " (1709, 1510),\n",
       " (1709, 1689),\n",
       " (1709, 1782),\n",
       " (1709, 1911),\n",
       " (1782, 1101),\n",
       " (1782, 1304),\n",
       " (1782, 1316),\n",
       " (1782, 1468),\n",
       " (1782, 1510),\n",
       " (1782, 1641),\n",
       " (1782, 1689),\n",
       " (1782, 1709),\n",
       " (1911, 1247),\n",
       " (1911, 1381),\n",
       " (1911, 1501),\n",
       " (1911, 1709),\n",
       " (1934, 1304),\n",
       " (1934, 1316),\n",
       " (1934, 1501)]"
      ]
     },
     "execution_count": 30,
     "metadata": {},
     "output_type": "execute_result"
    }
   ],
   "source": [
    "%%sql\n",
    "select * from friend\n",
    "order by id1, id2;"
   ]
  }
 ],
 "metadata": {
  "kernelspec": {
   "display_name": "Python 3",
   "language": "python",
   "name": "python3"
  },
  "language_info": {
   "codemirror_mode": {
    "name": "ipython",
    "version": 3
   },
   "file_extension": ".py",
   "mimetype": "text/x-python",
   "name": "python",
   "nbconvert_exporter": "python",
   "pygments_lexer": "ipython3",
   "version": "3.6.1"
  }
 },
 "nbformat": 4,
 "nbformat_minor": 2
}
