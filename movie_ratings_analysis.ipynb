{
 "cells": [
  {
   "cell_type": "markdown",
   "metadata": {},
   "source": [
    "# SQL Movie-Rating Query Exercises\n",
    "\n",
    "You've started a new movie-rating website, and you've been collecting data on reviewers' ratings of various movies. There's not much data yet, but you can still try out some interesting queries. Here's the schema: \n",
    "\n",
    "Movie ( mID, title, year, director ) \n",
    "English: There is a movie with ID number _mID_, a _title_, a release _year_, and a _director_.\n",
    "\n",
    "Reviewer ( rID, name ) \n",
    "English: The reviewer with ID number _rID_ has a certain _name_.\n",
    "\n",
    "Rating ( rID, mID, stars, rating_date ) \n",
    "English: The reviewer _rID_ gave the movie _mID_ a number of _stars_ rating (1-5) on a certain *rating\\_date*.\n",
    "\n",
    "Your queries will run over a small data set conforming to the schema. [View the database](https://lagunita.stanford.edu/c4x/DB/SQL/asset/moviedata.html). (You can also [download the schema and data](https://s3-us-west-2.amazonaws.com/prod-c2g/db/Winter2013/files/rating.sql).) \n",
    "\n",
    "**Notes:**\n",
    "- I've renamed _ratingDate_ to *rating\\_date*\n",
    "- I'm using PostgreSQL\n",
    "- I've combined the \"regular\" and \"extra\" questions"
   ]
  },
  {
   "cell_type": "code",
   "execution_count": 485,
   "metadata": {},
   "outputs": [
    {
     "name": "stdout",
     "output_type": "stream",
     "text": [
      "The sql extension is already loaded. To reload it, use:\n",
      "  %reload_ext sql\n"
     ]
    }
   ],
   "source": [
    "%load_ext sql"
   ]
  },
  {
   "cell_type": "code",
   "execution_count": 486,
   "metadata": {},
   "outputs": [
    {
     "data": {
      "text/plain": [
       "'Connected: kbammarito@kbammarito'"
      ]
     },
     "execution_count": 486,
     "metadata": {},
     "output_type": "execute_result"
    }
   ],
   "source": [
    "%%sql\n",
    "postgresql://kbammarito@localhost:5432/kbammarito"
   ]
  },
  {
   "cell_type": "markdown",
   "metadata": {},
   "source": [
    "## Create the schema for the tables"
   ]
  },
  {
   "cell_type": "code",
   "execution_count": 488,
   "metadata": {},
   "outputs": [
    {
     "name": "stdout",
     "output_type": "stream",
     "text": [
      "Done.\n",
      "Done.\n",
      "Done.\n"
     ]
    },
    {
     "data": {
      "text/plain": [
       "[]"
      ]
     },
     "execution_count": 488,
     "metadata": {},
     "output_type": "execute_result"
    }
   ],
   "source": [
    "%%sql\n",
    "create table movie(mID int, title text, year int, director text);\n",
    "create table reviewer(rID int, name text);\n",
    "create table rating(rID int, mID int, stars int, rating_date date);"
   ]
  },
  {
   "cell_type": "markdown",
   "metadata": {},
   "source": [
    "## Populate the tables with the data"
   ]
  },
  {
   "cell_type": "code",
   "execution_count": 489,
   "metadata": {},
   "outputs": [
    {
     "name": "stdout",
     "output_type": "stream",
     "text": [
      "1 rows affected.\n",
      "1 rows affected.\n",
      "1 rows affected.\n",
      "1 rows affected.\n",
      "1 rows affected.\n",
      "1 rows affected.\n",
      "1 rows affected.\n",
      "1 rows affected.\n",
      "1 rows affected.\n",
      "1 rows affected.\n",
      "1 rows affected.\n",
      "1 rows affected.\n",
      "1 rows affected.\n",
      "1 rows affected.\n",
      "1 rows affected.\n",
      "1 rows affected.\n",
      "1 rows affected.\n",
      "1 rows affected.\n",
      "1 rows affected.\n",
      "1 rows affected.\n",
      "1 rows affected.\n",
      "1 rows affected.\n",
      "1 rows affected.\n",
      "1 rows affected.\n",
      "1 rows affected.\n",
      "1 rows affected.\n",
      "1 rows affected.\n",
      "1 rows affected.\n",
      "1 rows affected.\n",
      "1 rows affected.\n"
     ]
    },
    {
     "data": {
      "text/plain": [
       "[]"
      ]
     },
     "execution_count": 489,
     "metadata": {},
     "output_type": "execute_result"
    }
   ],
   "source": [
    "%%sql\n",
    "insert into movie values(101, 'Gone with the Wind', 1939, 'Victor Fleming');\n",
    "insert into movie values(102, 'Star Wars', 1977, 'George Lucas');\n",
    "insert into movie values(103, 'The Sound of Music', 1965, 'Robert Wise');\n",
    "insert into movie values(104, 'E.T.', 1982, 'Steven Spielberg');\n",
    "insert into movie values(105, 'Titanic', 1997, 'James Cameron');\n",
    "insert into movie values(106, 'Snow White', 1937, null);\n",
    "insert into movie values(107, 'Avatar', 2009, 'James Cameron');\n",
    "insert into movie values(108, 'Raiders of the Lost Ark', 1981, 'Steven Spielberg');\n",
    "\n",
    "insert into reviewer values(201, 'Sarah Martinez');\n",
    "insert into reviewer values(202, 'Daniel Lewis');\n",
    "insert into reviewer values(203, 'Brittany Harris');\n",
    "insert into reviewer values(204, 'Mike Anderson');\n",
    "insert into reviewer values(205, 'Chris Jackson');\n",
    "insert into reviewer values(206, 'Elizabeth Thomas');\n",
    "insert into reviewer values(207, 'James Cameron');\n",
    "insert into reviewer values(208, 'Ashley White');\n",
    "\n",
    "insert into rating values(201, 101, 2, '2011-01-22');\n",
    "insert into rating values(201, 101, 4, '2011-01-27');\n",
    "insert into rating values(202, 106, 4, null);\n",
    "insert into rating values(203, 103, 2, '2011-01-20');\n",
    "insert into rating values(203, 108, 4, '2011-01-12');\n",
    "insert into rating values(203, 108, 2, '2011-01-30');\n",
    "insert into rating values(204, 101, 3, '2011-01-09');\n",
    "insert into rating values(205, 103, 3, '2011-01-27');\n",
    "insert into rating values(205, 104, 2, '2011-01-22');\n",
    "insert into rating values(205, 108, 4, null);\n",
    "insert into rating values(206, 107, 3, '2011-01-15');\n",
    "insert into rating values(206, 106, 5, '2011-01-19');\n",
    "insert into rating values(207, 107, 5, '2011-01-20');\n",
    "insert into rating values(208, 104, 3, '2011-01-02');"
   ]
  },
  {
   "cell_type": "markdown",
   "metadata": {},
   "source": [
    "## View each table"
   ]
  },
  {
   "cell_type": "code",
   "execution_count": 490,
   "metadata": {},
   "outputs": [
    {
     "name": "stdout",
     "output_type": "stream",
     "text": [
      "8 rows affected.\n"
     ]
    },
    {
     "data": {
      "text/html": [
       "<table>\n",
       "    <tr>\n",
       "        <th>mid</th>\n",
       "        <th>title</th>\n",
       "        <th>year</th>\n",
       "        <th>director</th>\n",
       "    </tr>\n",
       "    <tr>\n",
       "        <td>101</td>\n",
       "        <td>Gone with the Wind</td>\n",
       "        <td>1939</td>\n",
       "        <td>Victor Fleming</td>\n",
       "    </tr>\n",
       "    <tr>\n",
       "        <td>102</td>\n",
       "        <td>Star Wars</td>\n",
       "        <td>1977</td>\n",
       "        <td>George Lucas</td>\n",
       "    </tr>\n",
       "    <tr>\n",
       "        <td>103</td>\n",
       "        <td>The Sound of Music</td>\n",
       "        <td>1965</td>\n",
       "        <td>Robert Wise</td>\n",
       "    </tr>\n",
       "    <tr>\n",
       "        <td>104</td>\n",
       "        <td>E.T.</td>\n",
       "        <td>1982</td>\n",
       "        <td>Steven Spielberg</td>\n",
       "    </tr>\n",
       "    <tr>\n",
       "        <td>105</td>\n",
       "        <td>Titanic</td>\n",
       "        <td>1997</td>\n",
       "        <td>James Cameron</td>\n",
       "    </tr>\n",
       "    <tr>\n",
       "        <td>106</td>\n",
       "        <td>Snow White</td>\n",
       "        <td>1937</td>\n",
       "        <td>None</td>\n",
       "    </tr>\n",
       "    <tr>\n",
       "        <td>107</td>\n",
       "        <td>Avatar</td>\n",
       "        <td>2009</td>\n",
       "        <td>James Cameron</td>\n",
       "    </tr>\n",
       "    <tr>\n",
       "        <td>108</td>\n",
       "        <td>Raiders of the Lost Ark</td>\n",
       "        <td>1981</td>\n",
       "        <td>Steven Spielberg</td>\n",
       "    </tr>\n",
       "</table>"
      ],
      "text/plain": [
       "[(101, 'Gone with the Wind', 1939, 'Victor Fleming'),\n",
       " (102, 'Star Wars', 1977, 'George Lucas'),\n",
       " (103, 'The Sound of Music', 1965, 'Robert Wise'),\n",
       " (104, 'E.T.', 1982, 'Steven Spielberg'),\n",
       " (105, 'Titanic', 1997, 'James Cameron'),\n",
       " (106, 'Snow White', 1937, None),\n",
       " (107, 'Avatar', 2009, 'James Cameron'),\n",
       " (108, 'Raiders of the Lost Ark', 1981, 'Steven Spielberg')]"
      ]
     },
     "execution_count": 490,
     "metadata": {},
     "output_type": "execute_result"
    }
   ],
   "source": [
    "%%sql\n",
    "select * from movie;"
   ]
  },
  {
   "cell_type": "code",
   "execution_count": 491,
   "metadata": {},
   "outputs": [
    {
     "name": "stdout",
     "output_type": "stream",
     "text": [
      "8 rows affected.\n"
     ]
    },
    {
     "data": {
      "text/html": [
       "<table>\n",
       "    <tr>\n",
       "        <th>rid</th>\n",
       "        <th>name</th>\n",
       "    </tr>\n",
       "    <tr>\n",
       "        <td>201</td>\n",
       "        <td>Sarah Martinez</td>\n",
       "    </tr>\n",
       "    <tr>\n",
       "        <td>202</td>\n",
       "        <td>Daniel Lewis</td>\n",
       "    </tr>\n",
       "    <tr>\n",
       "        <td>203</td>\n",
       "        <td>Brittany Harris</td>\n",
       "    </tr>\n",
       "    <tr>\n",
       "        <td>204</td>\n",
       "        <td>Mike Anderson</td>\n",
       "    </tr>\n",
       "    <tr>\n",
       "        <td>205</td>\n",
       "        <td>Chris Jackson</td>\n",
       "    </tr>\n",
       "    <tr>\n",
       "        <td>206</td>\n",
       "        <td>Elizabeth Thomas</td>\n",
       "    </tr>\n",
       "    <tr>\n",
       "        <td>207</td>\n",
       "        <td>James Cameron</td>\n",
       "    </tr>\n",
       "    <tr>\n",
       "        <td>208</td>\n",
       "        <td>Ashley White</td>\n",
       "    </tr>\n",
       "</table>"
      ],
      "text/plain": [
       "[(201, 'Sarah Martinez'),\n",
       " (202, 'Daniel Lewis'),\n",
       " (203, 'Brittany Harris'),\n",
       " (204, 'Mike Anderson'),\n",
       " (205, 'Chris Jackson'),\n",
       " (206, 'Elizabeth Thomas'),\n",
       " (207, 'James Cameron'),\n",
       " (208, 'Ashley White')]"
      ]
     },
     "execution_count": 491,
     "metadata": {},
     "output_type": "execute_result"
    }
   ],
   "source": [
    "%%sql\n",
    "select * from reviewer;"
   ]
  },
  {
   "cell_type": "code",
   "execution_count": 492,
   "metadata": {},
   "outputs": [
    {
     "name": "stdout",
     "output_type": "stream",
     "text": [
      "14 rows affected.\n"
     ]
    },
    {
     "data": {
      "text/html": [
       "<table>\n",
       "    <tr>\n",
       "        <th>rid</th>\n",
       "        <th>mid</th>\n",
       "        <th>stars</th>\n",
       "        <th>rating_date</th>\n",
       "    </tr>\n",
       "    <tr>\n",
       "        <td>201</td>\n",
       "        <td>101</td>\n",
       "        <td>2</td>\n",
       "        <td>2011-01-22</td>\n",
       "    </tr>\n",
       "    <tr>\n",
       "        <td>201</td>\n",
       "        <td>101</td>\n",
       "        <td>4</td>\n",
       "        <td>2011-01-27</td>\n",
       "    </tr>\n",
       "    <tr>\n",
       "        <td>202</td>\n",
       "        <td>106</td>\n",
       "        <td>4</td>\n",
       "        <td>None</td>\n",
       "    </tr>\n",
       "    <tr>\n",
       "        <td>203</td>\n",
       "        <td>103</td>\n",
       "        <td>2</td>\n",
       "        <td>2011-01-20</td>\n",
       "    </tr>\n",
       "    <tr>\n",
       "        <td>203</td>\n",
       "        <td>108</td>\n",
       "        <td>4</td>\n",
       "        <td>2011-01-12</td>\n",
       "    </tr>\n",
       "    <tr>\n",
       "        <td>203</td>\n",
       "        <td>108</td>\n",
       "        <td>2</td>\n",
       "        <td>2011-01-30</td>\n",
       "    </tr>\n",
       "    <tr>\n",
       "        <td>204</td>\n",
       "        <td>101</td>\n",
       "        <td>3</td>\n",
       "        <td>2011-01-09</td>\n",
       "    </tr>\n",
       "    <tr>\n",
       "        <td>205</td>\n",
       "        <td>103</td>\n",
       "        <td>3</td>\n",
       "        <td>2011-01-27</td>\n",
       "    </tr>\n",
       "    <tr>\n",
       "        <td>205</td>\n",
       "        <td>104</td>\n",
       "        <td>2</td>\n",
       "        <td>2011-01-22</td>\n",
       "    </tr>\n",
       "    <tr>\n",
       "        <td>205</td>\n",
       "        <td>108</td>\n",
       "        <td>4</td>\n",
       "        <td>None</td>\n",
       "    </tr>\n",
       "    <tr>\n",
       "        <td>206</td>\n",
       "        <td>107</td>\n",
       "        <td>3</td>\n",
       "        <td>2011-01-15</td>\n",
       "    </tr>\n",
       "    <tr>\n",
       "        <td>206</td>\n",
       "        <td>106</td>\n",
       "        <td>5</td>\n",
       "        <td>2011-01-19</td>\n",
       "    </tr>\n",
       "    <tr>\n",
       "        <td>207</td>\n",
       "        <td>107</td>\n",
       "        <td>5</td>\n",
       "        <td>2011-01-20</td>\n",
       "    </tr>\n",
       "    <tr>\n",
       "        <td>208</td>\n",
       "        <td>104</td>\n",
       "        <td>3</td>\n",
       "        <td>2011-01-02</td>\n",
       "    </tr>\n",
       "</table>"
      ],
      "text/plain": [
       "[(201, 101, 2, datetime.date(2011, 1, 22)),\n",
       " (201, 101, 4, datetime.date(2011, 1, 27)),\n",
       " (202, 106, 4, None),\n",
       " (203, 103, 2, datetime.date(2011, 1, 20)),\n",
       " (203, 108, 4, datetime.date(2011, 1, 12)),\n",
       " (203, 108, 2, datetime.date(2011, 1, 30)),\n",
       " (204, 101, 3, datetime.date(2011, 1, 9)),\n",
       " (205, 103, 3, datetime.date(2011, 1, 27)),\n",
       " (205, 104, 2, datetime.date(2011, 1, 22)),\n",
       " (205, 108, 4, None),\n",
       " (206, 107, 3, datetime.date(2011, 1, 15)),\n",
       " (206, 106, 5, datetime.date(2011, 1, 19)),\n",
       " (207, 107, 5, datetime.date(2011, 1, 20)),\n",
       " (208, 104, 3, datetime.date(2011, 1, 2))]"
      ]
     },
     "execution_count": 492,
     "metadata": {},
     "output_type": "execute_result"
    }
   ],
   "source": [
    "%%sql\n",
    "select * from rating;"
   ]
  },
  {
   "cell_type": "markdown",
   "metadata": {},
   "source": [
    "## Q1: Find the titles of all movies directed by Steven Spielberg."
   ]
  },
  {
   "cell_type": "code",
   "execution_count": 493,
   "metadata": {},
   "outputs": [
    {
     "name": "stdout",
     "output_type": "stream",
     "text": [
      "2 rows affected.\n"
     ]
    },
    {
     "data": {
      "text/html": [
       "<table>\n",
       "    <tr>\n",
       "        <th>title</th>\n",
       "    </tr>\n",
       "    <tr>\n",
       "        <td>E.T.</td>\n",
       "    </tr>\n",
       "    <tr>\n",
       "        <td>Raiders of the Lost Ark</td>\n",
       "    </tr>\n",
       "</table>"
      ],
      "text/plain": [
       "[('E.T.',), ('Raiders of the Lost Ark',)]"
      ]
     },
     "execution_count": 493,
     "metadata": {},
     "output_type": "execute_result"
    }
   ],
   "source": [
    "%%sql\n",
    "select title\n",
    "from movie\n",
    "where director = 'Steven Spielberg'\n",
    "order by title;"
   ]
  },
  {
   "cell_type": "markdown",
   "metadata": {},
   "source": [
    "## Q2: Find all years that have a movie that received a rating of 4 or 5, and sort them in increasing order."
   ]
  },
  {
   "cell_type": "code",
   "execution_count": 494,
   "metadata": {},
   "outputs": [
    {
     "name": "stdout",
     "output_type": "stream",
     "text": [
      "4 rows affected.\n"
     ]
    },
    {
     "data": {
      "text/html": [
       "<table>\n",
       "    <tr>\n",
       "        <th>year</th>\n",
       "    </tr>\n",
       "    <tr>\n",
       "        <td>1937</td>\n",
       "    </tr>\n",
       "    <tr>\n",
       "        <td>1939</td>\n",
       "    </tr>\n",
       "    <tr>\n",
       "        <td>1981</td>\n",
       "    </tr>\n",
       "    <tr>\n",
       "        <td>2009</td>\n",
       "    </tr>\n",
       "</table>"
      ],
      "text/plain": [
       "[(1937,), (1939,), (1981,), (2009,)]"
      ]
     },
     "execution_count": 494,
     "metadata": {},
     "output_type": "execute_result"
    }
   ],
   "source": [
    "%%sql\n",
    "select distinct year\n",
    "from movie join rating using(mid)\n",
    "where stars >= 4\n",
    "order by year;"
   ]
  },
  {
   "cell_type": "markdown",
   "metadata": {},
   "source": [
    "## Q3: Find the titles of all movies that have no ratings."
   ]
  },
  {
   "cell_type": "code",
   "execution_count": 495,
   "metadata": {},
   "outputs": [
    {
     "name": "stdout",
     "output_type": "stream",
     "text": [
      "2 rows affected.\n"
     ]
    },
    {
     "data": {
      "text/html": [
       "<table>\n",
       "    <tr>\n",
       "        <th>title</th>\n",
       "    </tr>\n",
       "    <tr>\n",
       "        <td>Star Wars</td>\n",
       "    </tr>\n",
       "    <tr>\n",
       "        <td>Titanic</td>\n",
       "    </tr>\n",
       "</table>"
      ],
      "text/plain": [
       "[('Star Wars',), ('Titanic',)]"
      ]
     },
     "execution_count": 495,
     "metadata": {},
     "output_type": "execute_result"
    }
   ],
   "source": [
    "%%sql\n",
    "select title\n",
    "from movie\n",
    "where mid not in\n",
    "(select mid\n",
    "  from rating)\n",
    "order by title;"
   ]
  },
  {
   "cell_type": "markdown",
   "metadata": {},
   "source": [
    "## Q4: Some reviewers didn't provide a date with their rating. Find the names of all reviewers who have ratings with a NULL value for the date."
   ]
  },
  {
   "cell_type": "code",
   "execution_count": 496,
   "metadata": {},
   "outputs": [
    {
     "name": "stdout",
     "output_type": "stream",
     "text": [
      "2 rows affected.\n"
     ]
    },
    {
     "data": {
      "text/html": [
       "<table>\n",
       "    <tr>\n",
       "        <th>name</th>\n",
       "    </tr>\n",
       "    <tr>\n",
       "        <td>Chris Jackson</td>\n",
       "    </tr>\n",
       "    <tr>\n",
       "        <td>Daniel Lewis</td>\n",
       "    </tr>\n",
       "</table>"
      ],
      "text/plain": [
       "[('Chris Jackson',), ('Daniel Lewis',)]"
      ]
     },
     "execution_count": 496,
     "metadata": {},
     "output_type": "execute_result"
    }
   ],
   "source": [
    "%%sql\n",
    "select name\n",
    "from rating join reviewer using(rid)\n",
    "where rating_date is null\n",
    "order by name;"
   ]
  },
  {
   "cell_type": "markdown",
   "metadata": {},
   "source": [
    "## Q5: Write a query to return the ratings data in a more readable format: reviewer name, movie title, stars, and ratingDate. Also, sort the data, first by reviewer name, then by movie title, and lastly by number of stars."
   ]
  },
  {
   "cell_type": "code",
   "execution_count": 497,
   "metadata": {},
   "outputs": [
    {
     "name": "stdout",
     "output_type": "stream",
     "text": [
      "14 rows affected.\n"
     ]
    },
    {
     "data": {
      "text/html": [
       "<table>\n",
       "    <tr>\n",
       "        <th>name</th>\n",
       "        <th>title</th>\n",
       "        <th>stars</th>\n",
       "        <th>rating_date</th>\n",
       "    </tr>\n",
       "    <tr>\n",
       "        <td>Ashley White</td>\n",
       "        <td>E.T.</td>\n",
       "        <td>3</td>\n",
       "        <td>2011-01-02</td>\n",
       "    </tr>\n",
       "    <tr>\n",
       "        <td>Brittany Harris</td>\n",
       "        <td>Raiders of the Lost Ark</td>\n",
       "        <td>2</td>\n",
       "        <td>2011-01-30</td>\n",
       "    </tr>\n",
       "    <tr>\n",
       "        <td>Brittany Harris</td>\n",
       "        <td>Raiders of the Lost Ark</td>\n",
       "        <td>4</td>\n",
       "        <td>2011-01-12</td>\n",
       "    </tr>\n",
       "    <tr>\n",
       "        <td>Brittany Harris</td>\n",
       "        <td>The Sound of Music</td>\n",
       "        <td>2</td>\n",
       "        <td>2011-01-20</td>\n",
       "    </tr>\n",
       "    <tr>\n",
       "        <td>Chris Jackson</td>\n",
       "        <td>E.T.</td>\n",
       "        <td>2</td>\n",
       "        <td>2011-01-22</td>\n",
       "    </tr>\n",
       "    <tr>\n",
       "        <td>Chris Jackson</td>\n",
       "        <td>Raiders of the Lost Ark</td>\n",
       "        <td>4</td>\n",
       "        <td>None</td>\n",
       "    </tr>\n",
       "    <tr>\n",
       "        <td>Chris Jackson</td>\n",
       "        <td>The Sound of Music</td>\n",
       "        <td>3</td>\n",
       "        <td>2011-01-27</td>\n",
       "    </tr>\n",
       "    <tr>\n",
       "        <td>Daniel Lewis</td>\n",
       "        <td>Snow White</td>\n",
       "        <td>4</td>\n",
       "        <td>None</td>\n",
       "    </tr>\n",
       "    <tr>\n",
       "        <td>Elizabeth Thomas</td>\n",
       "        <td>Avatar</td>\n",
       "        <td>3</td>\n",
       "        <td>2011-01-15</td>\n",
       "    </tr>\n",
       "    <tr>\n",
       "        <td>Elizabeth Thomas</td>\n",
       "        <td>Snow White</td>\n",
       "        <td>5</td>\n",
       "        <td>2011-01-19</td>\n",
       "    </tr>\n",
       "    <tr>\n",
       "        <td>James Cameron</td>\n",
       "        <td>Avatar</td>\n",
       "        <td>5</td>\n",
       "        <td>2011-01-20</td>\n",
       "    </tr>\n",
       "    <tr>\n",
       "        <td>Mike Anderson</td>\n",
       "        <td>Gone with the Wind</td>\n",
       "        <td>3</td>\n",
       "        <td>2011-01-09</td>\n",
       "    </tr>\n",
       "    <tr>\n",
       "        <td>Sarah Martinez</td>\n",
       "        <td>Gone with the Wind</td>\n",
       "        <td>2</td>\n",
       "        <td>2011-01-22</td>\n",
       "    </tr>\n",
       "    <tr>\n",
       "        <td>Sarah Martinez</td>\n",
       "        <td>Gone with the Wind</td>\n",
       "        <td>4</td>\n",
       "        <td>2011-01-27</td>\n",
       "    </tr>\n",
       "</table>"
      ],
      "text/plain": [
       "[('Ashley White', 'E.T.', 3, datetime.date(2011, 1, 2)),\n",
       " ('Brittany Harris', 'Raiders of the Lost Ark', 2, datetime.date(2011, 1, 30)),\n",
       " ('Brittany Harris', 'Raiders of the Lost Ark', 4, datetime.date(2011, 1, 12)),\n",
       " ('Brittany Harris', 'The Sound of Music', 2, datetime.date(2011, 1, 20)),\n",
       " ('Chris Jackson', 'E.T.', 2, datetime.date(2011, 1, 22)),\n",
       " ('Chris Jackson', 'Raiders of the Lost Ark', 4, None),\n",
       " ('Chris Jackson', 'The Sound of Music', 3, datetime.date(2011, 1, 27)),\n",
       " ('Daniel Lewis', 'Snow White', 4, None),\n",
       " ('Elizabeth Thomas', 'Avatar', 3, datetime.date(2011, 1, 15)),\n",
       " ('Elizabeth Thomas', 'Snow White', 5, datetime.date(2011, 1, 19)),\n",
       " ('James Cameron', 'Avatar', 5, datetime.date(2011, 1, 20)),\n",
       " ('Mike Anderson', 'Gone with the Wind', 3, datetime.date(2011, 1, 9)),\n",
       " ('Sarah Martinez', 'Gone with the Wind', 2, datetime.date(2011, 1, 22)),\n",
       " ('Sarah Martinez', 'Gone with the Wind', 4, datetime.date(2011, 1, 27))]"
      ]
     },
     "execution_count": 497,
     "metadata": {},
     "output_type": "execute_result"
    }
   ],
   "source": [
    "%%sql\n",
    "select name, title, stars, rating_date\n",
    "from (rating join reviewer using(rid)) join movie using(mid)\n",
    "order by name, title, stars;"
   ]
  },
  {
   "cell_type": "markdown",
   "metadata": {},
   "source": [
    "## Q6: For all cases where the same reviewer rated the same movie twice and gave it a higher rating the second time, return the reviewer's name and the title of the movie."
   ]
  },
  {
   "cell_type": "code",
   "execution_count": 498,
   "metadata": {},
   "outputs": [
    {
     "name": "stdout",
     "output_type": "stream",
     "text": [
      "1 rows affected.\n"
     ]
    },
    {
     "data": {
      "text/html": [
       "<table>\n",
       "    <tr>\n",
       "        <th>name</th>\n",
       "        <th>title</th>\n",
       "    </tr>\n",
       "    <tr>\n",
       "        <td>Sarah Martinez</td>\n",
       "        <td>Gone with the Wind</td>\n",
       "    </tr>\n",
       "</table>"
      ],
      "text/plain": [
       "[('Sarah Martinez', 'Gone with the Wind')]"
      ]
     },
     "execution_count": 498,
     "metadata": {},
     "output_type": "execute_result"
    }
   ],
   "source": [
    "%%sql\n",
    "select S2.name, S2.title\n",
    "from\n",
    "(select name, title, stars, rating_date\n",
    "  from (movie join rating using(mid)) join reviewer using(rid)) S1,\n",
    "(select name, title, stars, rating_date\n",
    "  from (movie join rating using(mid)) join reviewer using(rid)) S2\n",
    "where S2.name = S1.name\n",
    "and S2.title = S1.title\n",
    "and S2.rating_date > S1.rating_date\n",
    "and S2.stars > S1.stars\n",
    "order by name;"
   ]
  },
  {
   "cell_type": "markdown",
   "metadata": {},
   "source": [
    "## Q7: For each movie that has at least one rating, find the highest number of stars that movie received. Return the movie title and number of stars. Sort by movie title."
   ]
  },
  {
   "cell_type": "code",
   "execution_count": 499,
   "metadata": {},
   "outputs": [
    {
     "name": "stdout",
     "output_type": "stream",
     "text": [
      "6 rows affected.\n"
     ]
    },
    {
     "data": {
      "text/html": [
       "<table>\n",
       "    <tr>\n",
       "        <th>title</th>\n",
       "        <th>max</th>\n",
       "    </tr>\n",
       "    <tr>\n",
       "        <td>Avatar</td>\n",
       "        <td>5</td>\n",
       "    </tr>\n",
       "    <tr>\n",
       "        <td>E.T.</td>\n",
       "        <td>3</td>\n",
       "    </tr>\n",
       "    <tr>\n",
       "        <td>Gone with the Wind</td>\n",
       "        <td>4</td>\n",
       "    </tr>\n",
       "    <tr>\n",
       "        <td>Raiders of the Lost Ark</td>\n",
       "        <td>4</td>\n",
       "    </tr>\n",
       "    <tr>\n",
       "        <td>Snow White</td>\n",
       "        <td>5</td>\n",
       "    </tr>\n",
       "    <tr>\n",
       "        <td>The Sound of Music</td>\n",
       "        <td>3</td>\n",
       "    </tr>\n",
       "</table>"
      ],
      "text/plain": [
       "[('Avatar', 5),\n",
       " ('E.T.', 3),\n",
       " ('Gone with the Wind', 4),\n",
       " ('Raiders of the Lost Ark', 4),\n",
       " ('Snow White', 5),\n",
       " ('The Sound of Music', 3)]"
      ]
     },
     "execution_count": 499,
     "metadata": {},
     "output_type": "execute_result"
    }
   ],
   "source": [
    "%%sql\n",
    "select title, max(stars)\n",
    "from\n",
    "(select title, stars\n",
    "  from (movie join rating using(mid)) join reviewer using(rid)\n",
    "  order by title, stars) X\n",
    "group by title\n",
    "order by title;"
   ]
  },
  {
   "cell_type": "markdown",
   "metadata": {},
   "source": [
    "## Q8: For each movie, return the title and the 'rating spread', that is, the difference between highest and lowest ratings given to that movie. Sort by rating spread from highest to lowest, then by movie title."
   ]
  },
  {
   "cell_type": "code",
   "execution_count": 500,
   "metadata": {},
   "outputs": [
    {
     "name": "stdout",
     "output_type": "stream",
     "text": [
      "6 rows affected.\n"
     ]
    },
    {
     "data": {
      "text/html": [
       "<table>\n",
       "    <tr>\n",
       "        <th>title</th>\n",
       "        <th>rating_spread</th>\n",
       "    </tr>\n",
       "    <tr>\n",
       "        <td>Avatar</td>\n",
       "        <td>2</td>\n",
       "    </tr>\n",
       "    <tr>\n",
       "        <td>Gone with the Wind</td>\n",
       "        <td>2</td>\n",
       "    </tr>\n",
       "    <tr>\n",
       "        <td>Raiders of the Lost Ark</td>\n",
       "        <td>2</td>\n",
       "    </tr>\n",
       "    <tr>\n",
       "        <td>E.T.</td>\n",
       "        <td>1</td>\n",
       "    </tr>\n",
       "    <tr>\n",
       "        <td>Snow White</td>\n",
       "        <td>1</td>\n",
       "    </tr>\n",
       "    <tr>\n",
       "        <td>The Sound of Music</td>\n",
       "        <td>1</td>\n",
       "    </tr>\n",
       "</table>"
      ],
      "text/plain": [
       "[('Avatar', 2),\n",
       " ('Gone with the Wind', 2),\n",
       " ('Raiders of the Lost Ark', 2),\n",
       " ('E.T.', 1),\n",
       " ('Snow White', 1),\n",
       " ('The Sound of Music', 1)]"
      ]
     },
     "execution_count": 500,
     "metadata": {},
     "output_type": "execute_result"
    }
   ],
   "source": [
    "%%sql\n",
    "select title, (max(stars) - min(stars)) as rating_spread\n",
    "from rating join movie using(mid)\n",
    "group by title\n",
    "order by rating_spread desc, title;"
   ]
  },
  {
   "cell_type": "markdown",
   "metadata": {},
   "source": [
    "## Q9: Find the difference between the average rating of movies released before 1980 and the average rating of movies released after 1980. (Make sure to calculate the average rating for each movie, then the average of those averages for movies before 1980 and movies after. Don't just calculate the overall average rating before and after 1980.)"
   ]
  },
  {
   "cell_type": "code",
   "execution_count": 501,
   "metadata": {},
   "outputs": [
    {
     "name": "stdout",
     "output_type": "stream",
     "text": [
      "1 rows affected.\n"
     ]
    },
    {
     "data": {
      "text/html": [
       "<table>\n",
       "    <tr>\n",
       "        <th>difference</th>\n",
       "    </tr>\n",
       "    <tr>\n",
       "        <td>0.0555555555555555</td>\n",
       "    </tr>\n",
       "</table>"
      ],
      "text/plain": [
       "[(Decimal('0.0555555555555555'),)]"
      ]
     },
     "execution_count": 501,
     "metadata": {},
     "output_type": "execute_result"
    }
   ],
   "source": [
    "%%sql\n",
    "select abs(avg(after1980.after) - avg(before1980.before)) as difference\n",
    "from\n",
    "(select avg(stars) as after\n",
    "  from movie join rating using(mid)\n",
    "  where year > 1980\n",
    "  group by title) as after1980,\n",
    "(select avg(stars) as before\n",
    "  from movie join rating using(mid)\n",
    "  where year < 1980\n",
    "  group by title) as before1980;"
   ]
  },
  {
   "cell_type": "markdown",
   "metadata": {},
   "source": [
    "## Q10: Find the names of all reviewers who rated _Gone with the Wind_."
   ]
  },
  {
   "cell_type": "code",
   "execution_count": 502,
   "metadata": {},
   "outputs": [
    {
     "name": "stdout",
     "output_type": "stream",
     "text": [
      "2 rows affected.\n"
     ]
    },
    {
     "data": {
      "text/html": [
       "<table>\n",
       "    <tr>\n",
       "        <th>name</th>\n",
       "    </tr>\n",
       "    <tr>\n",
       "        <td>Mike Anderson</td>\n",
       "    </tr>\n",
       "    <tr>\n",
       "        <td>Sarah Martinez</td>\n",
       "    </tr>\n",
       "</table>"
      ],
      "text/plain": [
       "[('Mike Anderson',), ('Sarah Martinez',)]"
      ]
     },
     "execution_count": 502,
     "metadata": {},
     "output_type": "execute_result"
    }
   ],
   "source": [
    "%%sql\n",
    "select distinct name\n",
    "from (reviewer join rating using(rid)) join movie using(mid)\n",
    "where title = 'Gone with the Wind'\n",
    "order by name;"
   ]
  },
  {
   "cell_type": "markdown",
   "metadata": {},
   "source": [
    "## Q11: For any rating where the reviewer is the same as the director of the movie, return the reviewer name, movie title, and number of stars."
   ]
  },
  {
   "cell_type": "code",
   "execution_count": 503,
   "metadata": {},
   "outputs": [
    {
     "name": "stdout",
     "output_type": "stream",
     "text": [
      "1 rows affected.\n"
     ]
    },
    {
     "data": {
      "text/html": [
       "<table>\n",
       "    <tr>\n",
       "        <th>name</th>\n",
       "        <th>title</th>\n",
       "        <th>stars</th>\n",
       "    </tr>\n",
       "    <tr>\n",
       "        <td>James Cameron</td>\n",
       "        <td>Avatar</td>\n",
       "        <td>5</td>\n",
       "    </tr>\n",
       "</table>"
      ],
      "text/plain": [
       "[('James Cameron', 'Avatar', 5)]"
      ]
     },
     "execution_count": 503,
     "metadata": {},
     "output_type": "execute_result"
    }
   ],
   "source": [
    "%%sql\n",
    "select name, title, stars\n",
    "from (reviewer join rating using(rid)) join movie using(mid)\n",
    "where name = director\n",
    "order by name;"
   ]
  },
  {
   "cell_type": "markdown",
   "metadata": {},
   "source": [
    "## Q12: Return all reviewer names and movie names together in a single list, alphabetized. (Sorting by the first name of the reviewer and first word in the title is fine; no need for special processing on last names or removing \"The\".)"
   ]
  },
  {
   "cell_type": "code",
   "execution_count": 504,
   "metadata": {},
   "outputs": [
    {
     "name": "stdout",
     "output_type": "stream",
     "text": [
      "16 rows affected.\n"
     ]
    },
    {
     "data": {
      "text/html": [
       "<table>\n",
       "    <tr>\n",
       "        <th>all_names</th>\n",
       "    </tr>\n",
       "    <tr>\n",
       "        <td>Ashley White</td>\n",
       "    </tr>\n",
       "    <tr>\n",
       "        <td>Avatar</td>\n",
       "    </tr>\n",
       "    <tr>\n",
       "        <td>Brittany Harris</td>\n",
       "    </tr>\n",
       "    <tr>\n",
       "        <td>Chris Jackson</td>\n",
       "    </tr>\n",
       "    <tr>\n",
       "        <td>Daniel Lewis</td>\n",
       "    </tr>\n",
       "    <tr>\n",
       "        <td>E.T.</td>\n",
       "    </tr>\n",
       "    <tr>\n",
       "        <td>Elizabeth Thomas</td>\n",
       "    </tr>\n",
       "    <tr>\n",
       "        <td>Gone with the Wind</td>\n",
       "    </tr>\n",
       "    <tr>\n",
       "        <td>James Cameron</td>\n",
       "    </tr>\n",
       "    <tr>\n",
       "        <td>Mike Anderson</td>\n",
       "    </tr>\n",
       "    <tr>\n",
       "        <td>Raiders of the Lost Ark</td>\n",
       "    </tr>\n",
       "    <tr>\n",
       "        <td>Sarah Martinez</td>\n",
       "    </tr>\n",
       "    <tr>\n",
       "        <td>Snow White</td>\n",
       "    </tr>\n",
       "    <tr>\n",
       "        <td>Star Wars</td>\n",
       "    </tr>\n",
       "    <tr>\n",
       "        <td>The Sound of Music</td>\n",
       "    </tr>\n",
       "    <tr>\n",
       "        <td>Titanic</td>\n",
       "    </tr>\n",
       "</table>"
      ],
      "text/plain": [
       "[('Ashley White',),\n",
       " ('Avatar',),\n",
       " ('Brittany Harris',),\n",
       " ('Chris Jackson',),\n",
       " ('Daniel Lewis',),\n",
       " ('E.T.',),\n",
       " ('Elizabeth Thomas',),\n",
       " ('Gone with the Wind',),\n",
       " ('James Cameron',),\n",
       " ('Mike Anderson',),\n",
       " ('Raiders of the Lost Ark',),\n",
       " ('Sarah Martinez',),\n",
       " ('Snow White',),\n",
       " ('Star Wars',),\n",
       " ('The Sound of Music',),\n",
       " ('Titanic',)]"
      ]
     },
     "execution_count": 504,
     "metadata": {},
     "output_type": "execute_result"
    }
   ],
   "source": [
    "%%sql\n",
    "select name as all_names\n",
    "from\n",
    "(select name\n",
    "  from reviewer\n",
    "  union\n",
    "  select title\n",
    "  from movie) as X\n",
    "order by name;"
   ]
  },
  {
   "cell_type": "markdown",
   "metadata": {},
   "source": [
    "## Q13: Find the titles of all movies not reviewed by Chris Jackson."
   ]
  },
  {
   "cell_type": "code",
   "execution_count": 505,
   "metadata": {},
   "outputs": [
    {
     "name": "stdout",
     "output_type": "stream",
     "text": [
      "5 rows affected.\n"
     ]
    },
    {
     "data": {
      "text/html": [
       "<table>\n",
       "    <tr>\n",
       "        <th>title</th>\n",
       "    </tr>\n",
       "    <tr>\n",
       "        <td>Avatar</td>\n",
       "    </tr>\n",
       "    <tr>\n",
       "        <td>Gone with the Wind</td>\n",
       "    </tr>\n",
       "    <tr>\n",
       "        <td>Snow White</td>\n",
       "    </tr>\n",
       "    <tr>\n",
       "        <td>Star Wars</td>\n",
       "    </tr>\n",
       "    <tr>\n",
       "        <td>Titanic</td>\n",
       "    </tr>\n",
       "</table>"
      ],
      "text/plain": [
       "[('Avatar',),\n",
       " ('Gone with the Wind',),\n",
       " ('Snow White',),\n",
       " ('Star Wars',),\n",
       " ('Titanic',)]"
      ]
     },
     "execution_count": 505,
     "metadata": {},
     "output_type": "execute_result"
    }
   ],
   "source": [
    "%%sql\n",
    "select title\n",
    "from movie\n",
    "where title not in\n",
    "(select title\n",
    "  from (reviewer join rating using(rid)) join movie using(mid)\n",
    "  where name = 'Chris Jackson')\n",
    "order by title;"
   ]
  },
  {
   "cell_type": "markdown",
   "metadata": {},
   "source": [
    "## Q14: For all pairs of reviewers such that both reviewers gave a rating to the same movie, return the names of both reviewers. Eliminate duplicates, don't pair reviewers with themselves, and include each pair only once. For each pair, return the names in the pair in alphabetical order."
   ]
  },
  {
   "cell_type": "code",
   "execution_count": 506,
   "metadata": {},
   "outputs": [
    {
     "name": "stdout",
     "output_type": "stream",
     "text": [
      "5 rows affected.\n"
     ]
    },
    {
     "data": {
      "text/html": [
       "<table>\n",
       "    <tr>\n",
       "        <th>reviewer1</th>\n",
       "        <th>reviewer2</th>\n",
       "    </tr>\n",
       "    <tr>\n",
       "        <td>Ashley White</td>\n",
       "        <td>Chris Jackson</td>\n",
       "    </tr>\n",
       "    <tr>\n",
       "        <td>Brittany Harris</td>\n",
       "        <td>Chris Jackson</td>\n",
       "    </tr>\n",
       "    <tr>\n",
       "        <td>Daniel Lewis</td>\n",
       "        <td>Elizabeth Thomas</td>\n",
       "    </tr>\n",
       "    <tr>\n",
       "        <td>Elizabeth Thomas</td>\n",
       "        <td>James Cameron</td>\n",
       "    </tr>\n",
       "    <tr>\n",
       "        <td>Mike Anderson</td>\n",
       "        <td>Sarah Martinez</td>\n",
       "    </tr>\n",
       "</table>"
      ],
      "text/plain": [
       "[('Ashley White', 'Chris Jackson'),\n",
       " ('Brittany Harris', 'Chris Jackson'),\n",
       " ('Daniel Lewis', 'Elizabeth Thomas'),\n",
       " ('Elizabeth Thomas', 'James Cameron'),\n",
       " ('Mike Anderson', 'Sarah Martinez')]"
      ]
     },
     "execution_count": 506,
     "metadata": {},
     "output_type": "execute_result"
    }
   ],
   "source": [
    "%%sql\n",
    "select distinct S1.name as reviewer1, S2.name as reviewer2\n",
    "from ((reviewer join rating using(rid)) join movie using(mid)) S1,\n",
    "((reviewer join rating using(rid)) join movie using(mid)) S2\n",
    "where S1.title = S2.title and S1.name < S2.name\n",
    "order by S1.name, S2.name;"
   ]
  },
  {
   "cell_type": "markdown",
   "metadata": {},
   "source": [
    "## Q15: For each rating that is the lowest (fewest stars) currently in the database, return the reviewer name, movie title, and number of stars."
   ]
  },
  {
   "cell_type": "code",
   "execution_count": 507,
   "metadata": {},
   "outputs": [
    {
     "name": "stdout",
     "output_type": "stream",
     "text": [
      "4 rows affected.\n"
     ]
    },
    {
     "data": {
      "text/html": [
       "<table>\n",
       "    <tr>\n",
       "        <th>name</th>\n",
       "        <th>title</th>\n",
       "        <th>stars</th>\n",
       "    </tr>\n",
       "    <tr>\n",
       "        <td>Brittany Harris</td>\n",
       "        <td>Raiders of the Lost Ark</td>\n",
       "        <td>2</td>\n",
       "    </tr>\n",
       "    <tr>\n",
       "        <td>Brittany Harris</td>\n",
       "        <td>The Sound of Music</td>\n",
       "        <td>2</td>\n",
       "    </tr>\n",
       "    <tr>\n",
       "        <td>Chris Jackson</td>\n",
       "        <td>E.T.</td>\n",
       "        <td>2</td>\n",
       "    </tr>\n",
       "    <tr>\n",
       "        <td>Sarah Martinez</td>\n",
       "        <td>Gone with the Wind</td>\n",
       "        <td>2</td>\n",
       "    </tr>\n",
       "</table>"
      ],
      "text/plain": [
       "[('Brittany Harris', 'Raiders of the Lost Ark', 2),\n",
       " ('Brittany Harris', 'The Sound of Music', 2),\n",
       " ('Chris Jackson', 'E.T.', 2),\n",
       " ('Sarah Martinez', 'Gone with the Wind', 2)]"
      ]
     },
     "execution_count": 507,
     "metadata": {},
     "output_type": "execute_result"
    }
   ],
   "source": [
    "%%sql\n",
    "select name, title, stars\n",
    "from\n",
    "(select name, title, stars\n",
    "  from (reviewer join rating using(rid)) join movie using(mid)) X\n",
    "where stars <= all (select stars from rating)\n",
    "order by name, title;"
   ]
  },
  {
   "cell_type": "markdown",
   "metadata": {},
   "source": [
    "## Q16: List movie titles and average ratings, from highest-rated to lowest-rated. If two or more movies have the same average rating, list them in alphabetical order."
   ]
  },
  {
   "cell_type": "code",
   "execution_count": 508,
   "metadata": {},
   "outputs": [
    {
     "name": "stdout",
     "output_type": "stream",
     "text": [
      "6 rows affected.\n"
     ]
    },
    {
     "data": {
      "text/html": [
       "<table>\n",
       "    <tr>\n",
       "        <th>title</th>\n",
       "        <th>average_rating</th>\n",
       "    </tr>\n",
       "    <tr>\n",
       "        <td>Snow White</td>\n",
       "        <td>4.5000000000000000</td>\n",
       "    </tr>\n",
       "    <tr>\n",
       "        <td>Avatar</td>\n",
       "        <td>4.0000000000000000</td>\n",
       "    </tr>\n",
       "    <tr>\n",
       "        <td>Raiders of the Lost Ark</td>\n",
       "        <td>3.3333333333333333</td>\n",
       "    </tr>\n",
       "    <tr>\n",
       "        <td>Gone with the Wind</td>\n",
       "        <td>3.0000000000000000</td>\n",
       "    </tr>\n",
       "    <tr>\n",
       "        <td>E.T.</td>\n",
       "        <td>2.5000000000000000</td>\n",
       "    </tr>\n",
       "    <tr>\n",
       "        <td>The Sound of Music</td>\n",
       "        <td>2.5000000000000000</td>\n",
       "    </tr>\n",
       "</table>"
      ],
      "text/plain": [
       "[('Snow White', Decimal('4.5000000000000000')),\n",
       " ('Avatar', Decimal('4.0000000000000000')),\n",
       " ('Raiders of the Lost Ark', Decimal('3.3333333333333333')),\n",
       " ('Gone with the Wind', Decimal('3.0000000000000000')),\n",
       " ('E.T.', Decimal('2.5000000000000000')),\n",
       " ('The Sound of Music', Decimal('2.5000000000000000'))]"
      ]
     },
     "execution_count": 508,
     "metadata": {},
     "output_type": "execute_result"
    }
   ],
   "source": [
    "%%sql\n",
    "select title, avg(stars) as average_rating\n",
    "from movie join rating using(mid)\n",
    "group by title\n",
    "order by average_rating desc, title;"
   ]
  },
  {
   "cell_type": "markdown",
   "metadata": {},
   "source": [
    "## Q17: Find the names of all reviewers who have contributed three or more ratings."
   ]
  },
  {
   "cell_type": "code",
   "execution_count": 509,
   "metadata": {},
   "outputs": [
    {
     "name": "stdout",
     "output_type": "stream",
     "text": [
      "2 rows affected.\n"
     ]
    },
    {
     "data": {
      "text/html": [
       "<table>\n",
       "    <tr>\n",
       "        <th>name</th>\n",
       "    </tr>\n",
       "    <tr>\n",
       "        <td>Brittany Harris</td>\n",
       "    </tr>\n",
       "    <tr>\n",
       "        <td>Chris Jackson</td>\n",
       "    </tr>\n",
       "</table>"
      ],
      "text/plain": [
       "[('Brittany Harris',), ('Chris Jackson',)]"
      ]
     },
     "execution_count": 509,
     "metadata": {},
     "output_type": "execute_result"
    }
   ],
   "source": [
    "%%sql\n",
    "select name\n",
    "from reviewer join rating using(rid)\n",
    "group by name\n",
    "having count(*) >= 3\n",
    "order by name;"
   ]
  },
  {
   "cell_type": "markdown",
   "metadata": {},
   "source": [
    "## Q18: Some directors directed more than one movie. For all such directors, return the titles of all movies directed by them, along with the director name. Sort by director name, then movie title."
   ]
  },
  {
   "cell_type": "code",
   "execution_count": 510,
   "metadata": {},
   "outputs": [
    {
     "name": "stdout",
     "output_type": "stream",
     "text": [
      "4 rows affected.\n"
     ]
    },
    {
     "data": {
      "text/html": [
       "<table>\n",
       "    <tr>\n",
       "        <th>title</th>\n",
       "        <th>director</th>\n",
       "    </tr>\n",
       "    <tr>\n",
       "        <td>Avatar</td>\n",
       "        <td>James Cameron</td>\n",
       "    </tr>\n",
       "    <tr>\n",
       "        <td>Titanic</td>\n",
       "        <td>James Cameron</td>\n",
       "    </tr>\n",
       "    <tr>\n",
       "        <td>E.T.</td>\n",
       "        <td>Steven Spielberg</td>\n",
       "    </tr>\n",
       "    <tr>\n",
       "        <td>Raiders of the Lost Ark</td>\n",
       "        <td>Steven Spielberg</td>\n",
       "    </tr>\n",
       "</table>"
      ],
      "text/plain": [
       "[('Avatar', 'James Cameron'),\n",
       " ('Titanic', 'James Cameron'),\n",
       " ('E.T.', 'Steven Spielberg'),\n",
       " ('Raiders of the Lost Ark', 'Steven Spielberg')]"
      ]
     },
     "execution_count": 510,
     "metadata": {},
     "output_type": "execute_result"
    }
   ],
   "source": [
    "%%sql\n",
    "select title, director\n",
    "from\n",
    "(select director\n",
    "  from movie\n",
    "  group by director\n",
    "  having count(*) >=2) X\n",
    "join movie using(director)\n",
    "order by director, title;"
   ]
  },
  {
   "cell_type": "markdown",
   "metadata": {},
   "source": [
    "## Q19: Find the movie(s) with the highest average rating. Return the movie title(s) and average rating."
   ]
  },
  {
   "cell_type": "code",
   "execution_count": 511,
   "metadata": {},
   "outputs": [
    {
     "name": "stdout",
     "output_type": "stream",
     "text": [
      "1 rows affected.\n"
     ]
    },
    {
     "data": {
      "text/html": [
       "<table>\n",
       "    <tr>\n",
       "        <th>title</th>\n",
       "        <th>average_rating</th>\n",
       "    </tr>\n",
       "    <tr>\n",
       "        <td>Snow White</td>\n",
       "        <td>4.5000000000000000</td>\n",
       "    </tr>\n",
       "</table>"
      ],
      "text/plain": [
       "[('Snow White', Decimal('4.5000000000000000'))]"
      ]
     },
     "execution_count": 511,
     "metadata": {},
     "output_type": "execute_result"
    }
   ],
   "source": [
    "%%sql\n",
    "select title, average_rating\n",
    "from (select title, avg(stars) as average_rating\n",
    "  from movie join rating using(mid)\n",
    "  group by title) R1\n",
    "where average_rating in\n",
    "(select max(average_rating)\n",
    "  from (select title, avg(stars) as average_rating\n",
    "    from movie join rating using(mid)\n",
    "    group by title) R2)\n",
    "order by title;"
   ]
  },
  {
   "cell_type": "markdown",
   "metadata": {},
   "source": [
    "## Q20: Find the movie(s) with the lowest average rating. Return the movie title(s) and average rating."
   ]
  },
  {
   "cell_type": "code",
   "execution_count": 512,
   "metadata": {},
   "outputs": [
    {
     "name": "stdout",
     "output_type": "stream",
     "text": [
      "2 rows affected.\n"
     ]
    },
    {
     "data": {
      "text/html": [
       "<table>\n",
       "    <tr>\n",
       "        <th>title</th>\n",
       "        <th>average_rating</th>\n",
       "    </tr>\n",
       "    <tr>\n",
       "        <td>E.T.</td>\n",
       "        <td>2.5000000000000000</td>\n",
       "    </tr>\n",
       "    <tr>\n",
       "        <td>The Sound of Music</td>\n",
       "        <td>2.5000000000000000</td>\n",
       "    </tr>\n",
       "</table>"
      ],
      "text/plain": [
       "[('E.T.', Decimal('2.5000000000000000')),\n",
       " ('The Sound of Music', Decimal('2.5000000000000000'))]"
      ]
     },
     "execution_count": 512,
     "metadata": {},
     "output_type": "execute_result"
    }
   ],
   "source": [
    "%%sql\n",
    "select title, average_rating\n",
    "from (select title, avg(stars) as average_rating\n",
    "  from movie join rating using(mid)\n",
    "  group by title) Y\n",
    "where average_rating in\n",
    "(select min(average_rating)\n",
    "  from (select title, avg(stars) as average_rating\n",
    "    from movie join rating using(mid)\n",
    "    group by title) X)\n",
    "order by title;"
   ]
  },
  {
   "cell_type": "markdown",
   "metadata": {},
   "source": [
    "## Q21: For each director, return the director's name together with the title(s) of the movie(s) they directed that received the highest rating among all of their movies, and the value of that rating. Ignore movies whose director is NULL."
   ]
  },
  {
   "cell_type": "code",
   "execution_count": 513,
   "metadata": {},
   "outputs": [
    {
     "name": "stdout",
     "output_type": "stream",
     "text": [
      "4 rows affected.\n"
     ]
    },
    {
     "data": {
      "text/html": [
       "<table>\n",
       "    <tr>\n",
       "        <th>director</th>\n",
       "        <th>title</th>\n",
       "        <th>highest_rating</th>\n",
       "    </tr>\n",
       "    <tr>\n",
       "        <td>James Cameron</td>\n",
       "        <td>Avatar</td>\n",
       "        <td>5</td>\n",
       "    </tr>\n",
       "    <tr>\n",
       "        <td>Robert Wise</td>\n",
       "        <td>The Sound of Music</td>\n",
       "        <td>3</td>\n",
       "    </tr>\n",
       "    <tr>\n",
       "        <td>Steven Spielberg</td>\n",
       "        <td>Raiders of the Lost Ark</td>\n",
       "        <td>4</td>\n",
       "    </tr>\n",
       "    <tr>\n",
       "        <td>Victor Fleming</td>\n",
       "        <td>Gone with the Wind</td>\n",
       "        <td>4</td>\n",
       "    </tr>\n",
       "</table>"
      ],
      "text/plain": [
       "[('James Cameron', 'Avatar', 5),\n",
       " ('Robert Wise', 'The Sound of Music', 3),\n",
       " ('Steven Spielberg', 'Raiders of the Lost Ark', 4),\n",
       " ('Victor Fleming', 'Gone with the Wind', 4)]"
      ]
     },
     "execution_count": 513,
     "metadata": {},
     "output_type": "execute_result"
    }
   ],
   "source": [
    "%%sql\n",
    "select director, title, highest_rating\n",
    "from\n",
    "((select director, max(stars) as highest_rating\n",
    "  from movie join rating using(mid)\n",
    "  where director is not null\n",
    "  group by director) X\n",
    "join\n",
    "(select director, title, max(stars) as highest_rating\n",
    "  from movie join rating using(mid)\n",
    "  where director is not null\n",
    "  group by director, title) Y using(director, highest_rating))\n",
    "order by director;"
   ]
  },
  {
   "cell_type": "markdown",
   "metadata": {},
   "source": [
    "## Q22: Add the reviewer Roger Ebert to your database, with an rID of 209."
   ]
  },
  {
   "cell_type": "code",
   "execution_count": 514,
   "metadata": {},
   "outputs": [
    {
     "name": "stdout",
     "output_type": "stream",
     "text": [
      "8 rows affected.\n"
     ]
    },
    {
     "data": {
      "text/html": [
       "<table>\n",
       "    <tr>\n",
       "        <th>rid</th>\n",
       "        <th>name</th>\n",
       "    </tr>\n",
       "    <tr>\n",
       "        <td>201</td>\n",
       "        <td>Sarah Martinez</td>\n",
       "    </tr>\n",
       "    <tr>\n",
       "        <td>202</td>\n",
       "        <td>Daniel Lewis</td>\n",
       "    </tr>\n",
       "    <tr>\n",
       "        <td>203</td>\n",
       "        <td>Brittany Harris</td>\n",
       "    </tr>\n",
       "    <tr>\n",
       "        <td>204</td>\n",
       "        <td>Mike Anderson</td>\n",
       "    </tr>\n",
       "    <tr>\n",
       "        <td>205</td>\n",
       "        <td>Chris Jackson</td>\n",
       "    </tr>\n",
       "    <tr>\n",
       "        <td>206</td>\n",
       "        <td>Elizabeth Thomas</td>\n",
       "    </tr>\n",
       "    <tr>\n",
       "        <td>207</td>\n",
       "        <td>James Cameron</td>\n",
       "    </tr>\n",
       "    <tr>\n",
       "        <td>208</td>\n",
       "        <td>Ashley White</td>\n",
       "    </tr>\n",
       "</table>"
      ],
      "text/plain": [
       "[(201, 'Sarah Martinez'),\n",
       " (202, 'Daniel Lewis'),\n",
       " (203, 'Brittany Harris'),\n",
       " (204, 'Mike Anderson'),\n",
       " (205, 'Chris Jackson'),\n",
       " (206, 'Elizabeth Thomas'),\n",
       " (207, 'James Cameron'),\n",
       " (208, 'Ashley White')]"
      ]
     },
     "execution_count": 514,
     "metadata": {},
     "output_type": "execute_result"
    }
   ],
   "source": [
    "%%sql\n",
    "select * from reviewer;"
   ]
  },
  {
   "cell_type": "code",
   "execution_count": 515,
   "metadata": {},
   "outputs": [
    {
     "name": "stdout",
     "output_type": "stream",
     "text": [
      "1 rows affected.\n"
     ]
    },
    {
     "data": {
      "text/plain": [
       "[]"
      ]
     },
     "execution_count": 515,
     "metadata": {},
     "output_type": "execute_result"
    }
   ],
   "source": [
    "%%sql\n",
    "insert into reviewer\n",
    "    values ('209', 'Roger Ebert');"
   ]
  },
  {
   "cell_type": "code",
   "execution_count": 516,
   "metadata": {},
   "outputs": [
    {
     "name": "stdout",
     "output_type": "stream",
     "text": [
      "9 rows affected.\n"
     ]
    },
    {
     "data": {
      "text/html": [
       "<table>\n",
       "    <tr>\n",
       "        <th>rid</th>\n",
       "        <th>name</th>\n",
       "    </tr>\n",
       "    <tr>\n",
       "        <td>201</td>\n",
       "        <td>Sarah Martinez</td>\n",
       "    </tr>\n",
       "    <tr>\n",
       "        <td>202</td>\n",
       "        <td>Daniel Lewis</td>\n",
       "    </tr>\n",
       "    <tr>\n",
       "        <td>203</td>\n",
       "        <td>Brittany Harris</td>\n",
       "    </tr>\n",
       "    <tr>\n",
       "        <td>204</td>\n",
       "        <td>Mike Anderson</td>\n",
       "    </tr>\n",
       "    <tr>\n",
       "        <td>205</td>\n",
       "        <td>Chris Jackson</td>\n",
       "    </tr>\n",
       "    <tr>\n",
       "        <td>206</td>\n",
       "        <td>Elizabeth Thomas</td>\n",
       "    </tr>\n",
       "    <tr>\n",
       "        <td>207</td>\n",
       "        <td>James Cameron</td>\n",
       "    </tr>\n",
       "    <tr>\n",
       "        <td>208</td>\n",
       "        <td>Ashley White</td>\n",
       "    </tr>\n",
       "    <tr>\n",
       "        <td>209</td>\n",
       "        <td>Roger Ebert</td>\n",
       "    </tr>\n",
       "</table>"
      ],
      "text/plain": [
       "[(201, 'Sarah Martinez'),\n",
       " (202, 'Daniel Lewis'),\n",
       " (203, 'Brittany Harris'),\n",
       " (204, 'Mike Anderson'),\n",
       " (205, 'Chris Jackson'),\n",
       " (206, 'Elizabeth Thomas'),\n",
       " (207, 'James Cameron'),\n",
       " (208, 'Ashley White'),\n",
       " (209, 'Roger Ebert')]"
      ]
     },
     "execution_count": 516,
     "metadata": {},
     "output_type": "execute_result"
    }
   ],
   "source": [
    "%%sql\n",
    "select * from reviewer;"
   ]
  },
  {
   "cell_type": "markdown",
   "metadata": {},
   "source": [
    "## Q23: Insert 5-star ratings by James Cameron for all movies in the database. Leave the review date as NULL."
   ]
  },
  {
   "cell_type": "markdown",
   "metadata": {},
   "source": [
    "### James Cameron's rid is 207 and there are eight movies to add"
   ]
  },
  {
   "cell_type": "code",
   "execution_count": 517,
   "metadata": {},
   "outputs": [
    {
     "name": "stdout",
     "output_type": "stream",
     "text": [
      "1 rows affected.\n"
     ]
    },
    {
     "data": {
      "text/html": [
       "<table>\n",
       "    <tr>\n",
       "        <th>rid</th>\n",
       "        <th>mid</th>\n",
       "        <th>stars</th>\n",
       "        <th>rating_date</th>\n",
       "    </tr>\n",
       "    <tr>\n",
       "        <td>207</td>\n",
       "        <td>107</td>\n",
       "        <td>5</td>\n",
       "        <td>2011-01-20</td>\n",
       "    </tr>\n",
       "</table>"
      ],
      "text/plain": [
       "[(207, 107, 5, datetime.date(2011, 1, 20))]"
      ]
     },
     "execution_count": 517,
     "metadata": {},
     "output_type": "execute_result"
    }
   ],
   "source": [
    "%%sql\n",
    "select * from rating\n",
    "where rid = 207;"
   ]
  },
  {
   "cell_type": "code",
   "execution_count": 518,
   "metadata": {},
   "outputs": [
    {
     "name": "stdout",
     "output_type": "stream",
     "text": [
      "8 rows affected.\n"
     ]
    },
    {
     "data": {
      "text/plain": [
       "[]"
      ]
     },
     "execution_count": 518,
     "metadata": {},
     "output_type": "execute_result"
    }
   ],
   "source": [
    "%%sql\n",
    "insert into rating\n",
    "    select\n",
    "    (select rid\n",
    "        from rating join reviewer using (rid)\n",
    "        where name = 'James Cameron'), mID, 5 , null\n",
    "    from\n",
    "    (select mID\n",
    "        from movie) a;"
   ]
  },
  {
   "cell_type": "code",
   "execution_count": 519,
   "metadata": {},
   "outputs": [
    {
     "name": "stdout",
     "output_type": "stream",
     "text": [
      "9 rows affected.\n"
     ]
    },
    {
     "data": {
      "text/html": [
       "<table>\n",
       "    <tr>\n",
       "        <th>rid</th>\n",
       "        <th>mid</th>\n",
       "        <th>stars</th>\n",
       "        <th>rating_date</th>\n",
       "    </tr>\n",
       "    <tr>\n",
       "        <td>207</td>\n",
       "        <td>107</td>\n",
       "        <td>5</td>\n",
       "        <td>2011-01-20</td>\n",
       "    </tr>\n",
       "    <tr>\n",
       "        <td>207</td>\n",
       "        <td>101</td>\n",
       "        <td>5</td>\n",
       "        <td>None</td>\n",
       "    </tr>\n",
       "    <tr>\n",
       "        <td>207</td>\n",
       "        <td>102</td>\n",
       "        <td>5</td>\n",
       "        <td>None</td>\n",
       "    </tr>\n",
       "    <tr>\n",
       "        <td>207</td>\n",
       "        <td>103</td>\n",
       "        <td>5</td>\n",
       "        <td>None</td>\n",
       "    </tr>\n",
       "    <tr>\n",
       "        <td>207</td>\n",
       "        <td>104</td>\n",
       "        <td>5</td>\n",
       "        <td>None</td>\n",
       "    </tr>\n",
       "    <tr>\n",
       "        <td>207</td>\n",
       "        <td>105</td>\n",
       "        <td>5</td>\n",
       "        <td>None</td>\n",
       "    </tr>\n",
       "    <tr>\n",
       "        <td>207</td>\n",
       "        <td>106</td>\n",
       "        <td>5</td>\n",
       "        <td>None</td>\n",
       "    </tr>\n",
       "    <tr>\n",
       "        <td>207</td>\n",
       "        <td>107</td>\n",
       "        <td>5</td>\n",
       "        <td>None</td>\n",
       "    </tr>\n",
       "    <tr>\n",
       "        <td>207</td>\n",
       "        <td>108</td>\n",
       "        <td>5</td>\n",
       "        <td>None</td>\n",
       "    </tr>\n",
       "</table>"
      ],
      "text/plain": [
       "[(207, 107, 5, datetime.date(2011, 1, 20)),\n",
       " (207, 101, 5, None),\n",
       " (207, 102, 5, None),\n",
       " (207, 103, 5, None),\n",
       " (207, 104, 5, None),\n",
       " (207, 105, 5, None),\n",
       " (207, 106, 5, None),\n",
       " (207, 107, 5, None),\n",
       " (207, 108, 5, None)]"
      ]
     },
     "execution_count": 519,
     "metadata": {},
     "output_type": "execute_result"
    }
   ],
   "source": [
    "%%sql\n",
    "select * from rating\n",
    "where rid = 207;"
   ]
  },
  {
   "cell_type": "markdown",
   "metadata": {
    "collapsed": true
   },
   "source": [
    "## Q24: For all movies that have an average rating of 4 stars or higher, add 25 to the release year. (Update the existing tuples; don't insert new tuples.)"
   ]
  },
  {
   "cell_type": "code",
   "execution_count": 520,
   "metadata": {},
   "outputs": [
    {
     "name": "stdout",
     "output_type": "stream",
     "text": [
      "4 rows affected.\n"
     ]
    },
    {
     "data": {
      "text/html": [
       "<table>\n",
       "    <tr>\n",
       "        <th>mid</th>\n",
       "        <th>title</th>\n",
       "        <th>year</th>\n",
       "        <th>director</th>\n",
       "    </tr>\n",
       "    <tr>\n",
       "        <td>102</td>\n",
       "        <td>Star Wars</td>\n",
       "        <td>1977</td>\n",
       "        <td>George Lucas</td>\n",
       "    </tr>\n",
       "    <tr>\n",
       "        <td>105</td>\n",
       "        <td>Titanic</td>\n",
       "        <td>1997</td>\n",
       "        <td>James Cameron</td>\n",
       "    </tr>\n",
       "    <tr>\n",
       "        <td>106</td>\n",
       "        <td>Snow White</td>\n",
       "        <td>1937</td>\n",
       "        <td>None</td>\n",
       "    </tr>\n",
       "    <tr>\n",
       "        <td>107</td>\n",
       "        <td>Avatar</td>\n",
       "        <td>2009</td>\n",
       "        <td>James Cameron</td>\n",
       "    </tr>\n",
       "</table>"
      ],
      "text/plain": [
       "[(102, 'Star Wars', 1977, 'George Lucas'),\n",
       " (105, 'Titanic', 1997, 'James Cameron'),\n",
       " (106, 'Snow White', 1937, None),\n",
       " (107, 'Avatar', 2009, 'James Cameron')]"
      ]
     },
     "execution_count": 520,
     "metadata": {},
     "output_type": "execute_result"
    }
   ],
   "source": [
    "%%sql\n",
    "select *\n",
    "from movie\n",
    "where mid in\n",
    "(select mid\n",
    "    from\n",
    "    (select mid, avg(stars) as \"4+\"\n",
    "        from movie join rating using(mid)\n",
    "        group by mid) a\n",
    "    where \"4+\" >= 4)\n",
    "order by mid;"
   ]
  },
  {
   "cell_type": "code",
   "execution_count": 521,
   "metadata": {},
   "outputs": [
    {
     "name": "stdout",
     "output_type": "stream",
     "text": [
      "4 rows affected.\n"
     ]
    },
    {
     "data": {
      "text/plain": [
       "[]"
      ]
     },
     "execution_count": 521,
     "metadata": {},
     "output_type": "execute_result"
    }
   ],
   "source": [
    "%%sql\n",
    "update movie\n",
    "    set year = year + 25\n",
    "    where mid in\n",
    "    (select mid\n",
    "        from movie\n",
    "        where mid in\n",
    "        (select mid\n",
    "            from\n",
    "            (select mid, avg(stars) as \"4+\"\n",
    "                from movie join rating using(mid)\n",
    "                group by mid) a\n",
    "            where \"4+\" >= 4));"
   ]
  },
  {
   "cell_type": "code",
   "execution_count": 522,
   "metadata": {},
   "outputs": [
    {
     "name": "stdout",
     "output_type": "stream",
     "text": [
      "4 rows affected.\n"
     ]
    },
    {
     "data": {
      "text/html": [
       "<table>\n",
       "    <tr>\n",
       "        <th>mid</th>\n",
       "        <th>title</th>\n",
       "        <th>year</th>\n",
       "        <th>director</th>\n",
       "    </tr>\n",
       "    <tr>\n",
       "        <td>102</td>\n",
       "        <td>Star Wars</td>\n",
       "        <td>2002</td>\n",
       "        <td>George Lucas</td>\n",
       "    </tr>\n",
       "    <tr>\n",
       "        <td>105</td>\n",
       "        <td>Titanic</td>\n",
       "        <td>2022</td>\n",
       "        <td>James Cameron</td>\n",
       "    </tr>\n",
       "    <tr>\n",
       "        <td>106</td>\n",
       "        <td>Snow White</td>\n",
       "        <td>1962</td>\n",
       "        <td>None</td>\n",
       "    </tr>\n",
       "    <tr>\n",
       "        <td>107</td>\n",
       "        <td>Avatar</td>\n",
       "        <td>2034</td>\n",
       "        <td>James Cameron</td>\n",
       "    </tr>\n",
       "</table>"
      ],
      "text/plain": [
       "[(102, 'Star Wars', 2002, 'George Lucas'),\n",
       " (105, 'Titanic', 2022, 'James Cameron'),\n",
       " (106, 'Snow White', 1962, None),\n",
       " (107, 'Avatar', 2034, 'James Cameron')]"
      ]
     },
     "execution_count": 522,
     "metadata": {},
     "output_type": "execute_result"
    }
   ],
   "source": [
    "%%sql\n",
    "select *\n",
    "from movie\n",
    "where mid in\n",
    "(select mid\n",
    "    from\n",
    "    (select mid, avg(stars) as \"4+\"\n",
    "        from movie join rating using(mid)\n",
    "        group by mid) a\n",
    "    where \"4+\" >= 4)\n",
    "order by mid;"
   ]
  },
  {
   "cell_type": "markdown",
   "metadata": {},
   "source": [
    "## Q25: Remove all ratings where the movie's year is before 1970 or after 2000, and the rating is fewer than 4 stars."
   ]
  },
  {
   "cell_type": "code",
   "execution_count": 523,
   "metadata": {},
   "outputs": [
    {
     "name": "stdout",
     "output_type": "stream",
     "text": [
      "4 rows affected.\n"
     ]
    },
    {
     "data": {
      "text/plain": [
       "[]"
      ]
     },
     "execution_count": 523,
     "metadata": {},
     "output_type": "execute_result"
    }
   ],
   "source": [
    "%%sql\n",
    "update movie\n",
    "    set year = year - 25\n",
    "    where mid in\n",
    "    (select mid\n",
    "        from movie\n",
    "        where mid in\n",
    "        (select mid\n",
    "            from\n",
    "            (select mid, avg(stars) as \"4+\"\n",
    "                from movie join rating using(mid)\n",
    "                group by mid) a\n",
    "            where \"4+\" >= 4));"
   ]
  },
  {
   "cell_type": "code",
   "execution_count": 524,
   "metadata": {},
   "outputs": [
    {
     "name": "stdout",
     "output_type": "stream",
     "text": [
      "22 rows affected.\n"
     ]
    },
    {
     "data": {
      "text/html": [
       "<table>\n",
       "    <tr>\n",
       "        <th>rid</th>\n",
       "        <th>mid</th>\n",
       "        <th>title</th>\n",
       "        <th>year</th>\n",
       "        <th>stars</th>\n",
       "    </tr>\n",
       "    <tr>\n",
       "        <td>202</td>\n",
       "        <td>106</td>\n",
       "        <td>Snow White</td>\n",
       "        <td>1937</td>\n",
       "        <td>4</td>\n",
       "    </tr>\n",
       "    <tr>\n",
       "        <td>206</td>\n",
       "        <td>106</td>\n",
       "        <td>Snow White</td>\n",
       "        <td>1937</td>\n",
       "        <td>5</td>\n",
       "    </tr>\n",
       "    <tr>\n",
       "        <td>207</td>\n",
       "        <td>106</td>\n",
       "        <td>Snow White</td>\n",
       "        <td>1937</td>\n",
       "        <td>5</td>\n",
       "    </tr>\n",
       "    <tr>\n",
       "        <td>201</td>\n",
       "        <td>101</td>\n",
       "        <td>Gone with the Wind</td>\n",
       "        <td>1939</td>\n",
       "        <td>2</td>\n",
       "    </tr>\n",
       "    <tr>\n",
       "        <td>204</td>\n",
       "        <td>101</td>\n",
       "        <td>Gone with the Wind</td>\n",
       "        <td>1939</td>\n",
       "        <td>3</td>\n",
       "    </tr>\n",
       "    <tr>\n",
       "        <td>201</td>\n",
       "        <td>101</td>\n",
       "        <td>Gone with the Wind</td>\n",
       "        <td>1939</td>\n",
       "        <td>4</td>\n",
       "    </tr>\n",
       "    <tr>\n",
       "        <td>207</td>\n",
       "        <td>101</td>\n",
       "        <td>Gone with the Wind</td>\n",
       "        <td>1939</td>\n",
       "        <td>5</td>\n",
       "    </tr>\n",
       "    <tr>\n",
       "        <td>203</td>\n",
       "        <td>103</td>\n",
       "        <td>The Sound of Music</td>\n",
       "        <td>1965</td>\n",
       "        <td>2</td>\n",
       "    </tr>\n",
       "    <tr>\n",
       "        <td>205</td>\n",
       "        <td>103</td>\n",
       "        <td>The Sound of Music</td>\n",
       "        <td>1965</td>\n",
       "        <td>3</td>\n",
       "    </tr>\n",
       "    <tr>\n",
       "        <td>207</td>\n",
       "        <td>103</td>\n",
       "        <td>The Sound of Music</td>\n",
       "        <td>1965</td>\n",
       "        <td>5</td>\n",
       "    </tr>\n",
       "    <tr>\n",
       "        <td>207</td>\n",
       "        <td>102</td>\n",
       "        <td>Star Wars</td>\n",
       "        <td>1977</td>\n",
       "        <td>5</td>\n",
       "    </tr>\n",
       "    <tr>\n",
       "        <td>203</td>\n",
       "        <td>108</td>\n",
       "        <td>Raiders of the Lost Ark</td>\n",
       "        <td>1981</td>\n",
       "        <td>2</td>\n",
       "    </tr>\n",
       "    <tr>\n",
       "        <td>205</td>\n",
       "        <td>108</td>\n",
       "        <td>Raiders of the Lost Ark</td>\n",
       "        <td>1981</td>\n",
       "        <td>4</td>\n",
       "    </tr>\n",
       "    <tr>\n",
       "        <td>203</td>\n",
       "        <td>108</td>\n",
       "        <td>Raiders of the Lost Ark</td>\n",
       "        <td>1981</td>\n",
       "        <td>4</td>\n",
       "    </tr>\n",
       "    <tr>\n",
       "        <td>207</td>\n",
       "        <td>108</td>\n",
       "        <td>Raiders of the Lost Ark</td>\n",
       "        <td>1981</td>\n",
       "        <td>5</td>\n",
       "    </tr>\n",
       "    <tr>\n",
       "        <td>205</td>\n",
       "        <td>104</td>\n",
       "        <td>E.T.</td>\n",
       "        <td>1982</td>\n",
       "        <td>2</td>\n",
       "    </tr>\n",
       "    <tr>\n",
       "        <td>208</td>\n",
       "        <td>104</td>\n",
       "        <td>E.T.</td>\n",
       "        <td>1982</td>\n",
       "        <td>3</td>\n",
       "    </tr>\n",
       "    <tr>\n",
       "        <td>207</td>\n",
       "        <td>104</td>\n",
       "        <td>E.T.</td>\n",
       "        <td>1982</td>\n",
       "        <td>5</td>\n",
       "    </tr>\n",
       "    <tr>\n",
       "        <td>207</td>\n",
       "        <td>105</td>\n",
       "        <td>Titanic</td>\n",
       "        <td>1997</td>\n",
       "        <td>5</td>\n",
       "    </tr>\n",
       "    <tr>\n",
       "        <td>206</td>\n",
       "        <td>107</td>\n",
       "        <td>Avatar</td>\n",
       "        <td>2009</td>\n",
       "        <td>3</td>\n",
       "    </tr>\n",
       "    <tr>\n",
       "        <td>207</td>\n",
       "        <td>107</td>\n",
       "        <td>Avatar</td>\n",
       "        <td>2009</td>\n",
       "        <td>5</td>\n",
       "    </tr>\n",
       "    <tr>\n",
       "        <td>207</td>\n",
       "        <td>107</td>\n",
       "        <td>Avatar</td>\n",
       "        <td>2009</td>\n",
       "        <td>5</td>\n",
       "    </tr>\n",
       "</table>"
      ],
      "text/plain": [
       "[(202, 106, 'Snow White', 1937, 4),\n",
       " (206, 106, 'Snow White', 1937, 5),\n",
       " (207, 106, 'Snow White', 1937, 5),\n",
       " (201, 101, 'Gone with the Wind', 1939, 2),\n",
       " (204, 101, 'Gone with the Wind', 1939, 3),\n",
       " (201, 101, 'Gone with the Wind', 1939, 4),\n",
       " (207, 101, 'Gone with the Wind', 1939, 5),\n",
       " (203, 103, 'The Sound of Music', 1965, 2),\n",
       " (205, 103, 'The Sound of Music', 1965, 3),\n",
       " (207, 103, 'The Sound of Music', 1965, 5),\n",
       " (207, 102, 'Star Wars', 1977, 5),\n",
       " (203, 108, 'Raiders of the Lost Ark', 1981, 2),\n",
       " (205, 108, 'Raiders of the Lost Ark', 1981, 4),\n",
       " (203, 108, 'Raiders of the Lost Ark', 1981, 4),\n",
       " (207, 108, 'Raiders of the Lost Ark', 1981, 5),\n",
       " (205, 104, 'E.T.', 1982, 2),\n",
       " (208, 104, 'E.T.', 1982, 3),\n",
       " (207, 104, 'E.T.', 1982, 5),\n",
       " (207, 105, 'Titanic', 1997, 5),\n",
       " (206, 107, 'Avatar', 2009, 3),\n",
       " (207, 107, 'Avatar', 2009, 5),\n",
       " (207, 107, 'Avatar', 2009, 5)]"
      ]
     },
     "execution_count": 524,
     "metadata": {},
     "output_type": "execute_result"
    }
   ],
   "source": [
    "%%sql\n",
    "select rID, rating.mID, title, year, stars\n",
    "from rating join movie on (rating.mID = movie.mID)\n",
    "order by year, title, stars;"
   ]
  },
  {
   "cell_type": "code",
   "execution_count": 525,
   "metadata": {},
   "outputs": [
    {
     "name": "stdout",
     "output_type": "stream",
     "text": [
      "4 rows affected.\n"
     ]
    },
    {
     "data": {
      "text/html": [
       "<table>\n",
       "    <tr>\n",
       "        <th>mid</th>\n",
       "        <th>title</th>\n",
       "        <th>year</th>\n",
       "        <th>director</th>\n",
       "    </tr>\n",
       "    <tr>\n",
       "        <td>102</td>\n",
       "        <td>Star Wars</td>\n",
       "        <td>1977</td>\n",
       "        <td>George Lucas</td>\n",
       "    </tr>\n",
       "    <tr>\n",
       "        <td>105</td>\n",
       "        <td>Titanic</td>\n",
       "        <td>1997</td>\n",
       "        <td>James Cameron</td>\n",
       "    </tr>\n",
       "    <tr>\n",
       "        <td>106</td>\n",
       "        <td>Snow White</td>\n",
       "        <td>1937</td>\n",
       "        <td>None</td>\n",
       "    </tr>\n",
       "    <tr>\n",
       "        <td>107</td>\n",
       "        <td>Avatar</td>\n",
       "        <td>2009</td>\n",
       "        <td>James Cameron</td>\n",
       "    </tr>\n",
       "</table>"
      ],
      "text/plain": [
       "[(102, 'Star Wars', 1977, 'George Lucas'),\n",
       " (105, 'Titanic', 1997, 'James Cameron'),\n",
       " (106, 'Snow White', 1937, None),\n",
       " (107, 'Avatar', 2009, 'James Cameron')]"
      ]
     },
     "execution_count": 525,
     "metadata": {},
     "output_type": "execute_result"
    }
   ],
   "source": [
    "%%sql\n",
    "select *\n",
    "from movie\n",
    "where mid in\n",
    "(select mid\n",
    "    from\n",
    "    (select mid, avg(stars) as \"4+\"\n",
    "        from movie join rating using(mid)\n",
    "        group by mid) a\n",
    "    where \"4+\" >= 4)\n",
    "order by mid;"
   ]
  },
  {
   "cell_type": "code",
   "execution_count": 526,
   "metadata": {},
   "outputs": [
    {
     "name": "stdout",
     "output_type": "stream",
     "text": [
      "5 rows affected.\n"
     ]
    },
    {
     "data": {
      "text/plain": [
       "[]"
      ]
     },
     "execution_count": 526,
     "metadata": {},
     "output_type": "execute_result"
    }
   ],
   "source": [
    "%%sql\n",
    "delete from rating\n",
    "    where mid in\n",
    "    (select mid\n",
    "        from movie left join rating using(mid)\n",
    "        where year < 1970 or year > 2000) and stars < 4;"
   ]
  },
  {
   "cell_type": "code",
   "execution_count": 527,
   "metadata": {},
   "outputs": [
    {
     "name": "stdout",
     "output_type": "stream",
     "text": [
      "17 rows affected.\n"
     ]
    },
    {
     "data": {
      "text/html": [
       "<table>\n",
       "    <tr>\n",
       "        <th>rid</th>\n",
       "        <th>mid</th>\n",
       "        <th>title</th>\n",
       "        <th>year</th>\n",
       "        <th>stars</th>\n",
       "    </tr>\n",
       "    <tr>\n",
       "        <td>202</td>\n",
       "        <td>106</td>\n",
       "        <td>Snow White</td>\n",
       "        <td>1937</td>\n",
       "        <td>4</td>\n",
       "    </tr>\n",
       "    <tr>\n",
       "        <td>207</td>\n",
       "        <td>106</td>\n",
       "        <td>Snow White</td>\n",
       "        <td>1937</td>\n",
       "        <td>5</td>\n",
       "    </tr>\n",
       "    <tr>\n",
       "        <td>206</td>\n",
       "        <td>106</td>\n",
       "        <td>Snow White</td>\n",
       "        <td>1937</td>\n",
       "        <td>5</td>\n",
       "    </tr>\n",
       "    <tr>\n",
       "        <td>201</td>\n",
       "        <td>101</td>\n",
       "        <td>Gone with the Wind</td>\n",
       "        <td>1939</td>\n",
       "        <td>4</td>\n",
       "    </tr>\n",
       "    <tr>\n",
       "        <td>207</td>\n",
       "        <td>101</td>\n",
       "        <td>Gone with the Wind</td>\n",
       "        <td>1939</td>\n",
       "        <td>5</td>\n",
       "    </tr>\n",
       "    <tr>\n",
       "        <td>207</td>\n",
       "        <td>103</td>\n",
       "        <td>The Sound of Music</td>\n",
       "        <td>1965</td>\n",
       "        <td>5</td>\n",
       "    </tr>\n",
       "    <tr>\n",
       "        <td>207</td>\n",
       "        <td>102</td>\n",
       "        <td>Star Wars</td>\n",
       "        <td>1977</td>\n",
       "        <td>5</td>\n",
       "    </tr>\n",
       "    <tr>\n",
       "        <td>203</td>\n",
       "        <td>108</td>\n",
       "        <td>Raiders of the Lost Ark</td>\n",
       "        <td>1981</td>\n",
       "        <td>2</td>\n",
       "    </tr>\n",
       "    <tr>\n",
       "        <td>205</td>\n",
       "        <td>108</td>\n",
       "        <td>Raiders of the Lost Ark</td>\n",
       "        <td>1981</td>\n",
       "        <td>4</td>\n",
       "    </tr>\n",
       "    <tr>\n",
       "        <td>203</td>\n",
       "        <td>108</td>\n",
       "        <td>Raiders of the Lost Ark</td>\n",
       "        <td>1981</td>\n",
       "        <td>4</td>\n",
       "    </tr>\n",
       "    <tr>\n",
       "        <td>207</td>\n",
       "        <td>108</td>\n",
       "        <td>Raiders of the Lost Ark</td>\n",
       "        <td>1981</td>\n",
       "        <td>5</td>\n",
       "    </tr>\n",
       "    <tr>\n",
       "        <td>205</td>\n",
       "        <td>104</td>\n",
       "        <td>E.T.</td>\n",
       "        <td>1982</td>\n",
       "        <td>2</td>\n",
       "    </tr>\n",
       "    <tr>\n",
       "        <td>208</td>\n",
       "        <td>104</td>\n",
       "        <td>E.T.</td>\n",
       "        <td>1982</td>\n",
       "        <td>3</td>\n",
       "    </tr>\n",
       "    <tr>\n",
       "        <td>207</td>\n",
       "        <td>104</td>\n",
       "        <td>E.T.</td>\n",
       "        <td>1982</td>\n",
       "        <td>5</td>\n",
       "    </tr>\n",
       "    <tr>\n",
       "        <td>207</td>\n",
       "        <td>105</td>\n",
       "        <td>Titanic</td>\n",
       "        <td>1997</td>\n",
       "        <td>5</td>\n",
       "    </tr>\n",
       "    <tr>\n",
       "        <td>207</td>\n",
       "        <td>107</td>\n",
       "        <td>Avatar</td>\n",
       "        <td>2009</td>\n",
       "        <td>5</td>\n",
       "    </tr>\n",
       "    <tr>\n",
       "        <td>207</td>\n",
       "        <td>107</td>\n",
       "        <td>Avatar</td>\n",
       "        <td>2009</td>\n",
       "        <td>5</td>\n",
       "    </tr>\n",
       "</table>"
      ],
      "text/plain": [
       "[(202, 106, 'Snow White', 1937, 4),\n",
       " (207, 106, 'Snow White', 1937, 5),\n",
       " (206, 106, 'Snow White', 1937, 5),\n",
       " (201, 101, 'Gone with the Wind', 1939, 4),\n",
       " (207, 101, 'Gone with the Wind', 1939, 5),\n",
       " (207, 103, 'The Sound of Music', 1965, 5),\n",
       " (207, 102, 'Star Wars', 1977, 5),\n",
       " (203, 108, 'Raiders of the Lost Ark', 1981, 2),\n",
       " (205, 108, 'Raiders of the Lost Ark', 1981, 4),\n",
       " (203, 108, 'Raiders of the Lost Ark', 1981, 4),\n",
       " (207, 108, 'Raiders of the Lost Ark', 1981, 5),\n",
       " (205, 104, 'E.T.', 1982, 2),\n",
       " (208, 104, 'E.T.', 1982, 3),\n",
       " (207, 104, 'E.T.', 1982, 5),\n",
       " (207, 105, 'Titanic', 1997, 5),\n",
       " (207, 107, 'Avatar', 2009, 5),\n",
       " (207, 107, 'Avatar', 2009, 5)]"
      ]
     },
     "execution_count": 527,
     "metadata": {},
     "output_type": "execute_result"
    }
   ],
   "source": [
    "%%sql\n",
    "select rID, rating.mID, title, year, stars\n",
    "from rating join movie on (rating.mID = movie.mID)\n",
    "order by year, title, stars;"
   ]
  }
 ],
 "metadata": {
  "kernelspec": {
   "display_name": "Python 3",
   "language": "python",
   "name": "python3"
  },
  "language_info": {
   "codemirror_mode": {
    "name": "ipython",
    "version": 3
   },
   "file_extension": ".py",
   "mimetype": "text/x-python",
   "name": "python",
   "nbconvert_exporter": "python",
   "pygments_lexer": "ipython3",
   "version": "3.6.1"
  }
 },
 "nbformat": 4,
 "nbformat_minor": 2
}
